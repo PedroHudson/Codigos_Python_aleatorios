{
  "cells": [
    {
      "cell_type": "markdown",
      "metadata": {
        "id": "view-in-github",
        "colab_type": "text"
      },
      "source": [
        "<a href=\"https://colab.research.google.com/github/PedroHudson/Codigos_Python_aleatorios/blob/main/C%C3%B3pia_de_PYTHON_Lista_de_Exerc%C3%ADcios_do_Curso_em_V%C3%ADdeos.ipynb\" target=\"_parent\"><img src=\"https://colab.research.google.com/assets/colab-badge.svg\" alt=\"Open In Colab\"/></a>"
      ]
    },
    {
      "cell_type": "markdown",
      "metadata": {
        "id": "eUiUXEWj0cpV"
      },
      "source": [
        "Exercício Python 1: Escreva a frase 'Olá, mundo'."
      ]
    },
    {
      "cell_type": "code",
      "execution_count": null,
      "metadata": {
        "id": "90iDLXdiye8w"
      },
      "outputs": [],
      "source": [
        "print('Olá, mundo')\n"
      ]
    },
    {
      "cell_type": "code",
      "execution_count": null,
      "metadata": {
        "id": "EQpZRy0-zRls"
      },
      "outputs": [],
      "source": [
        "msg = 'Olá, Mundo'\n",
        "pergunta = 'Como vai você?'\n",
        "print(msg + '. ' + pergunta)\n"
      ]
    },
    {
      "cell_type": "markdown",
      "metadata": {
        "id": "-FlY4tAS0jYC"
      },
      "source": [
        "Exercício Python 2: Faça um programa que leia o nome de uma pessoa e mostre uma mensagem de boas-vindas."
      ]
    },
    {
      "cell_type": "code",
      "execution_count": null,
      "metadata": {
        "id": "QLKyNwE-0mga"
      },
      "outputs": [],
      "source": [
        "nome = input('Qual é o seu nome? ')\n",
        "\n",
        "print('É um prazer te conhecer, ' + nome)\n"
      ]
    },
    {
      "cell_type": "code",
      "execution_count": null,
      "metadata": {
        "id": "EzczYLGV2kI9"
      },
      "outputs": [],
      "source": [
        "nome = input('Qual é o seu nome? ')\n",
        "print('É um prazer te conhecer,{}!'.format(nome))\n"
      ]
    },
    {
      "cell_type": "markdown",
      "metadata": {
        "id": "MHeRnI-U6kSw"
      },
      "source": [
        "Exercício Python 3: Crie um programa que leia dois números e mostre a soma entre eles."
      ]
    },
    {
      "cell_type": "code",
      "execution_count": null,
      "metadata": {
        "id": "4f0lH7nW6jWN"
      },
      "outputs": [],
      "source": [
        "valor1 = int(input('Digite um valor:'))\n",
        "valor2 = int(input('Digite outro valor:'))\n",
        "soma = valor1 + valor2\n",
        "print('A some desses valores é igual a {}!'.format(soma))"
      ]
    },
    {
      "cell_type": "code",
      "execution_count": null,
      "metadata": {
        "id": "aLXoqrpt8nix"
      },
      "outputs": [],
      "source": [
        "valor1 = int(input('Digite um número: '))\n",
        "valor2 = int(input('Digite um número, mais uma vez: '))\n",
        "soma = valor1+valor2\n",
        "print('A some de {} e de {} é igual a {}.'.format(valor1, valor2, soma))\n"
      ]
    },
    {
      "cell_type": "markdown",
      "metadata": {
        "id": "G1zlazdY9fDk"
      },
      "source": [
        "Exercício Python 4: Faça um programa que leia algo pelo teclado e mostre na tela o seu tipo primitivo e todas as informações possíveis sobre ele."
      ]
    },
    {
      "cell_type": "code",
      "execution_count": null,
      "metadata": {
        "id": "IPRPV1By8nZZ"
      },
      "outputs": [],
      "source": [
        "frase = input('Digite algo: ')\n",
        "print('O tipo primitivo dessa frase é', type(frase))\n",
        "print('É somente espaço? ', frase.isspace())\n",
        "print('É número? ', frase.isnumeric())\n",
        "print('É alfanúmerico?', frase.isalpha())\n",
        "print('Está em maiúsculas? ', frase.isupper())\n",
        "print('Está em minúsculas? ', frase.islower())\n",
        "print('Está capitalizada? ', frase.istitle())\n"
      ]
    },
    {
      "cell_type": "markdown",
      "metadata": {
        "id": "_iLJJEkrBmI2"
      },
      "source": [
        "ordem de procesdência das operações aritiméticas\n",
        "\n",
        "1 ( )\n",
        "\n",
        "2 **\n",
        "\n",
        "3 * / // %\n",
        "\n",
        "4 + -"
      ]
    },
    {
      "cell_type": "markdown",
      "metadata": {
        "id": "rG8O_ycyHATZ"
      },
      "source": [
        "Exercício Python 5: Faça um programa que leia um número Inteiro e mostre na tela o seu sucessor e seu antecessor."
      ]
    },
    {
      "cell_type": "code",
      "execution_count": null,
      "metadata": {
        "id": "FnVlX9sNCZxs"
      },
      "outputs": [],
      "source": [
        "numero = int(input('Digite um número: '))\n",
        "antecessor = numero - 1\n",
        "sucessor = numero + 1\n",
        "print('Você digitou o {}, o antecessor de {} é {} e o sucessor é {}!'.format(numero, numero, antecessor, sucessor))\n",
        "\n"
      ]
    },
    {
      "cell_type": "code",
      "execution_count": null,
      "metadata": {
        "id": "KQVI38L-JEBu"
      },
      "outputs": [],
      "source": [
        "numero = int(input('Digite um número: '))\n",
        "print('Você digitou o número {}, o antecessor é {} e o sucessor é o {}!'.format(numero, (numero-1), (numero+1)))\n"
      ]
    },
    {
      "cell_type": "markdown",
      "metadata": {
        "id": "FcGVVhB6CCEC"
      },
      "source": [
        "Exercício Python 006: Crie um algoritmo que leia um número e mostre o seu dobro, triplo e raiz quadrada.\n"
      ]
    },
    {
      "cell_type": "code",
      "execution_count": null,
      "metadata": {
        "id": "QnPwxnR0J9RF"
      },
      "outputs": [],
      "source": [
        "numero = int(input('Digite um número: '))\n",
        "print('Você digitou o número', numero)\n",
        "print('O dobro de {} é {}'.format(numero, (numero*2)))\n",
        "print('O triplo de {} é {}'.format(numero, (numero*3)))\n",
        "print('A raiz quadrada de {} é {}'.format(numero, (numero**2)))\n"
      ]
    },
    {
      "cell_type": "markdown",
      "metadata": {
        "id": "cgdu5B_hLZbZ"
      },
      "source": [
        "Exercício Python 7: Desenvolva um programa que leia as duas notas de um aluno, calcule e mostre a sua média."
      ]
    },
    {
      "cell_type": "code",
      "execution_count": null,
      "metadata": {
        "id": "pjkNR1tnLYYB"
      },
      "outputs": [],
      "source": [
        "nota1 = float(input('Qual foi sua nota? '))\n",
        "nota2 = float(input('Qual foi sua outra nota? '))\n",
        "print('Sua média é {}'.format((nota1+nota2)/2))\n"
      ]
    },
    {
      "cell_type": "markdown",
      "metadata": {
        "id": "fH-ZAr8mOpke"
      },
      "source": [
        "Exercício Python 8: Escreva um programa que leia um valor em metros e o exiba convertido em centímetros e milímetros.\n"
      ]
    },
    {
      "cell_type": "code",
      "execution_count": null,
      "metadata": {
        "id": "5DS7p2I-Or4_"
      },
      "outputs": [],
      "source": [
        "valor_em_metros = float(input('Digite o valor em metros: '))\n",
        "print('{}m é igual a {:.0f}cm e {:.0f}mm.'.format(valor_em_metros, (valor_em_metros*100), (valor_em_metros*1000)))\n"
      ]
    },
    {
      "cell_type": "markdown",
      "metadata": {
        "id": "V3EOIV40Rnhg"
      },
      "source": [
        "Exercício Python 9: Faça um programa que leia um número Inteiro qualquer e mostre na tela a sua tabuada.\n"
      ]
    },
    {
      "cell_type": "code",
      "execution_count": null,
      "metadata": {
        "colab": {
          "base_uri": "https://localhost:8080/"
        },
        "id": "D83gm8uhggjN",
        "outputId": "619a2757-987d-4163-8d67-4331715068f3"
      },
      "outputs": [
        {
          "name": "stdout",
          "output_type": "stream",
          "text": [
            "Digite um número: 4\n",
            "4 x 1 = 4\n",
            "\n",
            "4 x 2 = 8\n",
            "\n",
            "4 x 3 = 12\n",
            "\n",
            "4 x 4 = 16\n",
            "\n",
            "4 x 5 = 20\n",
            "\n",
            "4 x 6 = 24\n",
            "\n",
            "4 x 7 = 28\n",
            "\n",
            "4 x 8 = 32\n",
            "\n",
            "4 x 9 = 36\n",
            "\n",
            "4 x 10 = 40\n",
            "\n"
          ]
        }
      ],
      "source": [
        "num = int(input('Digite um número: '))\n",
        "print(f'{num} x 1 = {num*1}\\n')\n",
        "print(f'{num} x 2 = {num*2}\\n')\n",
        "print(f'{num} x 3 = {num*3}\\n')\n",
        "print(f'{num} x 4 = {num*4}\\n')\n",
        "print(f'{num} x 5 = {num*5}\\n')\n",
        "print(f'{num} x 6 = {num*6}\\n')\n",
        "print(f'{num} x 7 = {num*7}\\n')\n",
        "print(f'{num} x 8 = {num*8}\\n')\n",
        "print(f'{num} x 9 = {num*9}\\n')\n",
        "print(f'{num} x 10 = {num*10}\\n')"
      ]
    },
    {
      "cell_type": "code",
      "execution_count": null,
      "metadata": {
        "colab": {
          "base_uri": "https://localhost:8080/"
        },
        "id": "lBkOQvleiI3i",
        "outputId": "b609bfc1-df59-4171-fc03-ee78fc2ecbdf"
      },
      "outputs": [
        {
          "name": "stdout",
          "output_type": "stream",
          "text": [
            "Digite um número: 5\n",
            "5x1 = 5\n",
            "5x2 = 10\n",
            "5x3 = 15\n",
            "5x4 = 20\n",
            "5x5 = 25\n",
            "5x6 = 30\n",
            "5x7 = 35\n",
            "5x8 = 40\n",
            "5x9 = 45\n",
            "5x10 = 50\n",
            "Fim.\n"
          ]
        }
      ],
      "source": [
        "num = int(input('Digite um número: '))\n",
        "c = 0\n",
        "for c in range(1,11):\n",
        "  print(f'{num}x{c} = {num*c}')\n",
        "print('Fim.')"
      ]
    },
    {
      "cell_type": "markdown",
      "metadata": {
        "id": "2vKYNNAoSBAP"
      },
      "source": [
        "Exercício Python 10: Crie um programa que leia quanto dinheiro uma pessoa tem na carteira e mostre quantos dólares ela pode comprar."
      ]
    },
    {
      "cell_type": "code",
      "execution_count": null,
      "metadata": {
        "colab": {
          "base_uri": "https://localhost:8080/"
        },
        "id": "-3yJtdXWjAgT",
        "outputId": "19ab71dc-ef59-47e1-eb14-915f379b9277"
      },
      "outputs": [
        {
          "name": "stdout",
          "output_type": "stream",
          "text": [
            "Quanto dinheiro você tem? 70003\n",
            "Você consegue comprar U$14675.68\n"
          ]
        }
      ],
      "source": [
        "dinheiro = float(input('Quanto dinheiro você tem? '))\n",
        "cotacao_dolar = 4.77\n",
        "\n",
        "print(f'Você consegue comprar U${dinheiro/cotacao_dolar:.2f}')"
      ]
    },
    {
      "cell_type": "markdown",
      "metadata": {
        "id": "WPJR7Cc1SCbu"
      },
      "source": [
        "Exercício Python 11: Faça um programa que leia a largura e a altura de uma parede em metros, calcule a sua área e a quantidade de tinta necessária para pintá-la, sabendo que cada litro de tinta pinta uma área de 2 metros quadrados.\n"
      ]
    },
    {
      "cell_type": "code",
      "execution_count": null,
      "metadata": {
        "colab": {
          "base_uri": "https://localhost:8080/"
        },
        "id": "tVcYKQl1lZ6A",
        "outputId": "da0d18b8-4360-4dbc-8640-0e04433daaf8"
      },
      "outputs": [
        {
          "name": "stdout",
          "output_type": "stream",
          "text": [
            "Digite a largura da parede: 20\n",
            "Digite a altura da parede: 12\n",
            "A área da parede é 240 metros quadrados. Você precisa de 120.0 litros para pintar a parede\n"
          ]
        }
      ],
      "source": [
        "largura = int(input('Digite a largura da parede: '))\n",
        "altura = int(input('Digite a altura da parede: '))\n",
        "area = largura*altura\n",
        "litro = 2\n",
        "\n",
        "print(f'A área da parede é {area} metros quadrados. Você precisa de {area/litro} litros para pintar a parede')\n"
      ]
    },
    {
      "cell_type": "markdown",
      "metadata": {
        "id": "iBCjoDqwSTQj"
      },
      "source": [
        "Exercício Python 12: Faça um algoritmo que leia o preço de um produto e mostre seu novo preço, com 5% de desconto.\n"
      ]
    },
    {
      "cell_type": "code",
      "execution_count": null,
      "metadata": {
        "colab": {
          "base_uri": "https://localhost:8080/"
        },
        "id": "z54OU79-nAVJ",
        "outputId": "b90683e8-d35c-4e6b-f722-710811f31720"
      },
      "outputs": [
        {
          "name": "stdout",
          "output_type": "stream",
          "text": [
            "Digite o preço: 100\n",
            "Era R$ 100.0. Agora custa apenas R$95.0\n"
          ]
        }
      ],
      "source": [
        "preco = float(input('Digite o preço: '))\n",
        "desconto = preco-(preco*0.05)\n",
        "\n",
        "print(f'Era R$ {preco}. Agora custa apenas R${desconto}')\n"
      ]
    },
    {
      "cell_type": "markdown",
      "metadata": {
        "id": "aVhWzhEYSiAO"
      },
      "source": [
        "Exercício Python 13: Faça um algoritmo que leia o salário de um funcionário e mostre seu novo salário, com 15% de aumento.\n"
      ]
    },
    {
      "cell_type": "code",
      "source": [
        "salario = float(input('Digite o valor do seu salário: '))\n",
        "aumento = salario * 0.15\n",
        "novo_salario = salario + aumento\n",
        "print(f'Seu novo salário é de R$ {novo_salario}')\n"
      ],
      "metadata": {
        "colab": {
          "base_uri": "https://localhost:8080/"
        },
        "id": "x7L_4nkdP1Je",
        "outputId": "46cc90f4-7a20-4f5b-baf7-2b5ca089a925"
      },
      "execution_count": null,
      "outputs": [
        {
          "output_type": "stream",
          "name": "stdout",
          "text": [
            "Digite o valor do seu salário: 5000\n",
            "Seu novo salário é de R$ 5750.0\n"
          ]
        }
      ]
    },
    {
      "cell_type": "markdown",
      "metadata": {
        "id": "JhkM0JleSxdm"
      },
      "source": [
        "Exercício Python 14: Escreva um programa que converta uma temperatura\n",
        " digitando em graus Celsius e converta para graus Fahrenheit."
      ]
    },
    {
      "cell_type": "code",
      "source": [
        "c = float(input('Temperature in Celcius: '))\n",
        "f = ((9/5) * c) + 32\n",
        "print(f)"
      ],
      "metadata": {
        "colab": {
          "base_uri": "https://localhost:8080/"
        },
        "id": "qIBwwxZc988E",
        "outputId": "c70ce535-ab9c-4448-b182-ef90c13ddc6f"
      },
      "execution_count": null,
      "outputs": [
        {
          "output_type": "stream",
          "name": "stdout",
          "text": [
            "Temperature in Celcius: 38\n",
            "100.4\n"
          ]
        }
      ]
    },
    {
      "cell_type": "code",
      "source": [
        "print('*~'*30)\n",
        "print('TEMPERATURE CONVERSOR'.center(60))\n",
        "print('*~'*30)\n",
        "\n",
        "conversor = int(input('Select: \\n[1] CELCIUS TO FARENHEIT\\n[2] FARENHEIT TO CELCIUS\\n\\n'))\n",
        "\n",
        "if conversor == 1:\n",
        "  c = float(input('Temperature in Celcius: '))\n",
        "  f = ((9/5) * c) + 32\n",
        "  print(f'{c} celcius = {f:.2f} farenheit.')\n",
        "\n",
        "elif conversor == 2:\n",
        "  f = float(input('Temperature in farenheit: '))\n",
        "  c = (5/9) * (f - 32)\n",
        "  print(f'{f} farenheit = {c:.2f} celcius.')\n",
        "\n",
        "else:\n",
        "  print('Você digitou a opção errada.')\n",
        "\n",
        "\n",
        "\n"
      ],
      "metadata": {
        "colab": {
          "base_uri": "https://localhost:8080/"
        },
        "id": "dymrNthm-rS1",
        "outputId": "449ae978-0fd4-4372-ff7d-b49e815618bf"
      },
      "execution_count": null,
      "outputs": [
        {
          "output_type": "stream",
          "name": "stdout",
          "text": [
            "*~*~*~*~*~*~*~*~*~*~*~*~*~*~*~*~*~*~*~*~*~*~*~*~*~*~*~*~*~*~\n",
            "                   TEMPERATURE CONVERSOR                    \n",
            "*~*~*~*~*~*~*~*~*~*~*~*~*~*~*~*~*~*~*~*~*~*~*~*~*~*~*~*~*~*~\n",
            "Select: \n",
            "[1] CELCIUS TO FARENHEIT\n",
            "[2] FARENHEIT TO CELCIUS\n",
            "\n",
            "2\n",
            "Temperature in farenheit: 100\n",
            "100.0 farenheit = 37.78 celcius.\n"
          ]
        }
      ]
    },
    {
      "cell_type": "code",
      "source": [
        "from time import sleep\n",
        "print('*~'*30)\n",
        "print('TEMPERATURE CONVERSOR'.center(60))\n",
        "print('*~'*30)\n",
        "choice = ' '\n",
        "\n",
        "while True:\n",
        "  conversor = int(input('Select: \\n[1] CELCIUS TO FARENHEIT\\n[2] FARENHEIT TO CELCIUS\\n\\n'))\n",
        "  if conversor == 1:\n",
        "    c = float(input('Temperature in Celcius: '))\n",
        "    f = ((9/5) * c) + 32\n",
        "    print(f'{c} celcius = {f:.1f} farenheit.')\n",
        "\n",
        "  elif conversor == 2:\n",
        "    f = float(input('Temperature in farenheit: '))\n",
        "    c = (5/9) * (f - 32)\n",
        "    print(f'{f} farenheit = {c:.1f} celcius.')\n",
        "\n",
        "  else:\n",
        "    print('This option is invalid.')\n",
        "  choice  = input('Continue?\\nSelect: \\n[Y] YES \\n[N] NO\\n\\n').strip().upper()\n",
        "  if choice == 'N':\n",
        "     break\n",
        "  elif choice != 'Y':\n",
        "    print('This option is invalid.')\n",
        "\n",
        "sleep(2)\n",
        "print('END')"
      ],
      "metadata": {
        "colab": {
          "base_uri": "https://localhost:8080/"
        },
        "id": "XIW5zR5fCw1G",
        "outputId": "065a840a-eb07-459b-eb8a-e79106ebb19d"
      },
      "execution_count": null,
      "outputs": [
        {
          "output_type": "stream",
          "name": "stdout",
          "text": [
            "*~*~*~*~*~*~*~*~*~*~*~*~*~*~*~*~*~*~*~*~*~*~*~*~*~*~*~*~*~*~\n",
            "                   TEMPERATURE CONVERSOR                    \n",
            "*~*~*~*~*~*~*~*~*~*~*~*~*~*~*~*~*~*~*~*~*~*~*~*~*~*~*~*~*~*~\n",
            "Select: \n",
            "[1] CELCIUS TO FARENHEIT\n",
            "[2] FARENHEIT TO CELCIUS\n",
            "\n",
            "1\n",
            "Temperature in Celcius: 100\n",
            "100.0 celcius = 212.0 farenheit.\n",
            "Continue?\n",
            "Select: \n",
            "[Y] YES \n",
            "[N] NO\n",
            "\n",
            "y\n",
            "This option is invalid.\n",
            "Select: \n",
            "[1] CELCIUS TO FARENHEIT\n",
            "[2] FARENHEIT TO CELCIUS\n",
            "\n",
            "2\n",
            "Temperature in farenheit: 100\n",
            "100.0 farenheit = 37.8 celcius.\n",
            "Continue?\n",
            "Select: \n",
            "[Y] YES \n",
            "[N] NO\n",
            "\n",
            "n\n",
            "END\n"
          ]
        }
      ]
    },
    {
      "cell_type": "markdown",
      "metadata": {
        "id": "FZcv2cr4Sy8i"
      },
      "source": [
        "**Exercício** Python 15: Escreva um programa que pergunte a quantidade de Km percorridos por um carro alugado e a quantidade de dias pelos quais ele foi alugado. Calcule o preço a pagar, sabendo que o carro custa R$ 60  por dia e R$ 0,15 por Km rodado."
      ]
    },
    {
      "cell_type": "markdown",
      "metadata": {
        "id": "ezSqwMdLTPxd"
      },
      "source": [
        "Exercício Python 16: Crie um programa que leia um número Real qualquer pelo teclado e mostre na tela a sua porção Inteira."
      ]
    },
    {
      "cell_type": "code",
      "execution_count": null,
      "metadata": {
        "colab": {
          "base_uri": "https://localhost:8080/"
        },
        "id": "GiKn0E7GSSuM",
        "outputId": "eef60d3e-c189-49e6-cc4d-a4bbf4063219"
      },
      "outputs": [
        {
          "name": "stdout",
          "output_type": "stream",
          "text": [
            "Digite um número real: 5\n",
            "Você digitou o número 5.0 e o número inteiro é 5! \n"
          ]
        }
      ],
      "source": [
        "from math import trunc\n",
        "numero_real = float(input('Digite um número real: '))\n",
        "print('Você digitou o número {} e o número inteiro é {}! '.format(numero_real, trunc(numero_real)))\n"
      ]
    },
    {
      "cell_type": "code",
      "execution_count": null,
      "metadata": {
        "id": "F9F155ukTmNS"
      },
      "outputs": [],
      "source": [
        "numero_real = float(input('Digite um número real: '))\n",
        "print('Você digitou {} e o número real é {}'.format(numero_real, int(numero_real)))\n"
      ]
    },
    {
      "cell_type": "markdown",
      "metadata": {
        "id": "W10vkMWXQrRd"
      },
      "source": [
        "Exercício Python 17: Faça um programa que leia o comprimento do cateto oposto e do cateto adjacente de um triângulo retângulo. Calcule e mostre o comprimento da hipotenusa."
      ]
    },
    {
      "cell_type": "markdown",
      "metadata": {
        "id": "-pgXzPkeU74v"
      },
      "source": [
        "*A soma do quadrado dos catetos é igual a raiz quadrada da hipotenusa. \\*"
      ]
    },
    {
      "cell_type": "code",
      "execution_count": null,
      "metadata": {
        "id": "qKqmpzV-VMJL"
      },
      "outputs": [],
      "source": [
        "cateto = float(input('Digite um número: '))\n",
        "cateto_adjacente = float(input('Digite outro número: '))\n",
        "print('A hipotenusa é {:.2f}.'.format((cateto **2 + cateto_adjacente **2) ** (1/2)))\n",
        "\n"
      ]
    },
    {
      "cell_type": "code",
      "execution_count": null,
      "metadata": {
        "id": "6NsnSc8aW4Da"
      },
      "outputs": [],
      "source": [
        "from math import hypot\n",
        "cateto = float(input('Digite um número: '))\n",
        "cateto_adjacente = float(input('Digite outro número: '))\n",
        "print('A hipotenusa é {:.2f}!'.format(hypot(cateto, cateto_adjacente)))"
      ]
    },
    {
      "cell_type": "markdown",
      "metadata": {
        "id": "-nilO0NHQnp9"
      },
      "source": [
        "Exercício Python 18: Faça um programa que leia um ângulo qualquer e mostre na tela o valor do seno, cosseno e tangente desse ângulo."
      ]
    },
    {
      "cell_type": "code",
      "execution_count": null,
      "metadata": {
        "colab": {
          "base_uri": "https://localhost:8080/"
        },
        "id": "48iO8y65X4zM",
        "outputId": "979c1054-bac5-4355-f2ea-ffcb42af7a25"
      },
      "outputs": [
        {
          "name": "stdout",
          "output_type": "stream",
          "text": [
            "Digite um ângulo em graus: 45\n",
            "Seno: 0.71\n",
            "Cosseno: 0.71\n",
            "Tangente: 1.00\n"
          ]
        }
      ],
      "source": [
        "import math\n",
        "\n",
        "# Solicitar um ângulo em graus\n",
        "angulo_graus = float(input('Digite um ângulo em graus: '))\n",
        "\n",
        "# Converter o ângulo para radianos\n",
        "angulo_radianos = math.radians(angulo_graus)\n",
        "\n",
        "# Calcular seno, cosseno e tangente\n",
        "seno = math.sin(angulo_radianos)\n",
        "cosseno = math.cos(angulo_radianos)\n",
        "tangente = math.tan(angulo_radianos)\n",
        "\n",
        "# Exibir os resultados\n",
        "print(f'Seno: {seno:.2f}')\n",
        "print(f'Cosseno: {cosseno:.2f}')\n",
        "print(f'Tangente: {tangente:.2f}')\n"
      ]
    },
    {
      "cell_type": "markdown",
      "metadata": {
        "id": "OGAZ7XBBX59H"
      },
      "source": [
        "Exercício Python 19: Um professor quer sortear um dos seus quatro alunos para apagar o quadro. Faça um programa que ajude ele, lendo o nome dos alunos e escrevendo na tela o nome do escolhido."
      ]
    },
    {
      "cell_type": "code",
      "execution_count": null,
      "metadata": {
        "id": "PmlY1xJIYFee"
      },
      "outputs": [],
      "source": [
        "from random import choice\n",
        "nome1 = str(input('Digite o primeiro nome: '))\n",
        "nome2 = str(input('Digite o segundo nome: '))\n",
        "nome3 = str(input('Digite o tereiro nome: '))\n",
        "nome4 = str(input('Digite o quarto nome: '))\n",
        "nome_dos_alunos = [nome1, nome2, nome3, nome4]\n",
        "print('O aluno escolhido foi: {}'.format(choice(nome_dos_alunos)))"
      ]
    },
    {
      "cell_type": "markdown",
      "metadata": {
        "id": "MxelU1o2Zxea"
      },
      "source": [
        "Exercício Python 20: O mesmo professor do desafio 19 quer sortear a ordem de apresentação de trabalhos dos alunos. Faça um programa que leia o nome dos quatro alunos e mostre a ordem sorteada."
      ]
    },
    {
      "cell_type": "code",
      "execution_count": null,
      "metadata": {
        "id": "afauuRvbZyde"
      },
      "outputs": [],
      "source": [
        "from random import shuffle\n",
        "nome1 = input('Digite o primeiro nome: ')\n",
        "nome2 = input('Digite o segundo nome: ')\n",
        "nome3 = input('Digite o terceiro nome: ')\n",
        "nome4 = input('Digite o quarto nome: ')\n",
        "lista_dos_alunos = [nome1, nome2, nome3, nome4]\n",
        "print('A ordem de aprentação será: {}'.format(shuffle(lista_dos_alunos)))"
      ]
    },
    {
      "cell_type": "code",
      "execution_count": null,
      "metadata": {
        "id": "bt2tYM4mbrZk"
      },
      "outputs": [],
      "source": [
        "from random import shuffle\n",
        "nome1 = input('Digite o primeiro nome: ')\n",
        "nome2 = input('Digite o segundo nome: ')\n",
        "nome3 = input('Digite o terceiro nome: ')\n",
        "nome4 = input('Digite o quarto nome: ')\n",
        "lista_dos_alunos = [nome1, nome2, nome3, nome4]\n",
        "shuffle(lista_dos_alunos)\n",
        "print('A ordem de aprentação será: {}'.format(lista_dos_alunos))\n"
      ]
    },
    {
      "cell_type": "markdown",
      "metadata": {
        "id": "m3VZKY7GcceU"
      },
      "source": [
        "Exercício Python 21: Faça um programa em Python que abra e reproduza o áudio de um arquivo MP3."
      ]
    },
    {
      "cell_type": "code",
      "execution_count": null,
      "metadata": {
        "id": "-AkIkjkGcd71"
      },
      "outputs": [],
      "source": [
        "import pygame\n",
        "pygame.init()\n",
        "pygame.mixer.music.load('/content/wonderwomanogg.ogg')\n",
        "pygame.mixer.music.play()\n",
        "input(pygame.event.wait())\n",
        "\n"
      ]
    },
    {
      "cell_type": "markdown",
      "metadata": {
        "id": "h1-KGCfDoRf1"
      },
      "source": [
        "Exercício Python 22: Crie um programa que leia o nome completo de uma pessoa e mostre:\n",
        "\n",
        "– O nome com todas as letras maiúsculas e minúsculas.\n",
        "\n",
        "– Quantas letras ao todo (sem considerar espaços)."
      ]
    },
    {
      "cell_type": "code",
      "execution_count": null,
      "metadata": {
        "colab": {
          "base_uri": "https://localhost:8080/"
        },
        "id": "dwLRqg0aoTRr",
        "outputId": "465373db-7133-4d22-8a40-c41d4633a516"
      },
      "outputs": [
        {
          "name": "stdout",
          "output_type": "stream",
          "text": [
            "Digite seu nome completo: Clara\n",
            "CLARA\n",
            "clara\n",
            "5\n"
          ]
        }
      ],
      "source": [
        "nome = str(input('Digite seu nome completo: '))\n",
        "print(format(nome.upper()))\n",
        "print(format(nome.lower()))\n",
        "print(format(len(nome)))"
      ]
    },
    {
      "cell_type": "markdown",
      "metadata": {
        "id": "D-VSNV8uDfn8"
      },
      "source": [
        "Exercício Python 23: Faça um programa que leia um número de 0 a 9999 e mostre na tela cada um dos dígitos separados."
      ]
    },
    {
      "cell_type": "code",
      "execution_count": null,
      "metadata": {
        "colab": {
          "base_uri": "https://localhost:8080/"
        },
        "id": "IexpC725Dlnd",
        "outputId": "29994989-f436-456b-f9ee-f0ba687e32a0"
      },
      "outputs": [
        {
          "name": "stdout",
          "output_type": "stream",
          "text": [
            "Digite um número entre 0 e 9999: 523\n",
            "Milhar: 0\n",
            "Centena: 5\n",
            "Dezena: 2\n",
            "Unidade: 3\n"
          ]
        }
      ],
      "source": [
        "# Solicita ao usuário que insira um número de 0 a 9999\n",
        "numero = int(input('Digite um número entre 0 e 9999: '))\n",
        "\n",
        "# Obtém cada dígito separadamente\n",
        "unidade = numero % 10\n",
        "dezena = (numero // 10) % 10\n",
        "centena = (numero // 100) % 10\n",
        "milhar = (numero // 1000) % 10\n",
        "\n",
        "# Exibe os dígitos na tela\n",
        "print(f'Milhar: {milhar}')\n",
        "print(f'Centena: {centena}')\n",
        "print(f'Dezena: {dezena}')\n",
        "print(f'Unidade: {unidade}')"
      ]
    },
    {
      "cell_type": "markdown",
      "metadata": {
        "id": "v3OgoqNLD1hw"
      },
      "source": [
        "Exercício Python 24: Crie um programa que leia o nome de uma cidade diga se ela começa ou não com o nome “SANTO”."
      ]
    },
    {
      "cell_type": "code",
      "execution_count": null,
      "metadata": {
        "colab": {
          "base_uri": "https://localhost:8080/"
        },
        "id": "m1ORfP83D5Jv",
        "outputId": "69cc6a2b-73e0-4d75-ffbe-07c38ae7108b"
      },
      "outputs": [
        {
          "name": "stdout",
          "output_type": "stream",
          "text": [
            "Digite o nome da cidade:Santo Antonio\n",
            "True\n"
          ]
        }
      ],
      "source": [
        "cidade = input('Digite o nome da cidade:').strip()\n",
        "print((cidade[:5]).upper() == 'SANTO')"
      ]
    },
    {
      "cell_type": "markdown",
      "metadata": {
        "id": "B4eZZBydEiTC"
      },
      "source": [
        "Exercício Python 25: Crie um programa que leia o nome de uma pessoa e diga se ela tem “SILVA” no nome."
      ]
    },
    {
      "cell_type": "code",
      "execution_count": null,
      "metadata": {
        "colab": {
          "base_uri": "https://localhost:8080/"
        },
        "id": "_eNQlloeEjhR",
        "outputId": "da23841e-0178-40f1-e045-93536874c3f9"
      },
      "outputs": [
        {
          "name": "stdout",
          "output_type": "stream",
          "text": [
            "Digite o seu nome completo:clara silva\n",
            "Tem Silva no nome? True\n"
          ]
        }
      ],
      "source": [
        "sobrenome = input('Digite o seu nome completo:').strip().upper()\n",
        "print(f'Tem Silva no nome? {\"SILVA\" in sobrenome}')"
      ]
    },
    {
      "cell_type": "markdown",
      "metadata": {
        "id": "1v-kDUxEEpxR"
      },
      "source": [
        "*Exercício* Python 26: Faça um programa que leia uma frase pelo teclado e mostre quantas vezes aparece a letra “A”, em que posição ela aparece a primeira vez e em que posição ela aparece a última vez."
      ]
    },
    {
      "cell_type": "code",
      "execution_count": null,
      "metadata": {
        "id": "0YH4s7C_ErkV"
      },
      "outputs": [],
      "source": []
    },
    {
      "cell_type": "markdown",
      "metadata": {
        "id": "5s2zQe-GFdWk"
      },
      "source": [
        "Exercício Python 27: Faça um programa que leia o nome completo de uma pessoa, mostrando em seguida o primeiro e o último nome separadamente."
      ]
    },
    {
      "cell_type": "code",
      "execution_count": null,
      "metadata": {
        "id": "X50sZbCXFfey"
      },
      "outputs": [],
      "source": [
        "# Solicita ao usuário que insira uma frase\n",
        "frase = input('Digite uma frase: ')\n",
        "\n",
        "# Converte a frase para maiúsculas para tornar a contagem insensível a maiúsculas/minúsculas\n",
        "frase_maiuscula = frase.upper()\n",
        "\n",
        "# Conta quantas vezes a letra 'A' aparece na frase\n",
        "quantidade_a = frase_maiuscula.count('A')\n",
        "\n",
        "# Encontra a posição da primeira ocorrência de 'A'\n",
        "primeira_ocorrencia = frase_maiuscula.find('A') + 1  # Adiciona 1 para ajustar para a indexação começando em 1\n",
        "\n",
        "# Encontra a posição da última ocorrência de 'A'\n",
        "ultima_ocorrencia = frase_maiuscula.rfind('A') + 1  # Adiciona 1 para ajustar para a indexação começando em 1\n",
        "\n",
        "# Exibe os resultados\n",
        "print(f'A letra \"A\" aparece {quantidade_a} vezes na frase.')\n",
        "print(f'A primeira ocorrência de \"A\" está na posição {primeira_ocorrencia}.')\n",
        "print(f'A última ocorrência de \"A\" está na posição {ultima_ocorrencia}.')\n"
      ]
    },
    {
      "cell_type": "markdown",
      "metadata": {
        "id": "3SMlEzBWH97j"
      },
      "source": [
        "Exercício Python 28: Escreva um programa que faça o computador “pensar” em um número inteiro entre 0 e 5 e peça para o usuário tentar descobrir qual foi o número escolhido pelo computador. O programa deverá escrever na tela se o usuário venceu ou perdeu."
      ]
    },
    {
      "cell_type": "code",
      "execution_count": null,
      "metadata": {
        "colab": {
          "base_uri": "https://localhost:8080/"
        },
        "id": "B73132S4Lk1x",
        "outputId": "84109c4c-6dac-453e-9281-cf1b9fbe4831"
      },
      "outputs": [
        {
          "name": "stdout",
          "output_type": "stream",
          "text": [
            "Escolha um número de 0 a 5: 4\n",
            "O número sorteado foi 5\n",
            "VOCÊ PERDEU. TENTE OUTRA VEZ\n"
          ]
        }
      ],
      "source": [
        "##não funciona com o choice\n",
        "from random import choice\n",
        "escolha = int(input('Escolha um número de 0 a 5: '))\n",
        "numeros = [0, 1, 2, 3, 4, 5]\n",
        "print('O número sorteado foi {}'.format(choice(numeros)))\n",
        "if escolha == (choice(numeros)):\n",
        "  print('PARABÉNS, VOCÊ VENCEU!')\n",
        "else:\n",
        "  print('VOCÊ PERDEU. TENTE OUTRA VEZ')\n"
      ]
    },
    {
      "cell_type": "code",
      "execution_count": null,
      "metadata": {
        "colab": {
          "base_uri": "https://localhost:8080/"
        },
        "id": "q8P42ef_O6ky",
        "outputId": "47c94222-cf34-4aa5-fddb-88c20c5bf762"
      },
      "outputs": [
        {
          "name": "stdout",
          "output_type": "stream",
          "text": [
            "Escolha um número de 0 a 5.4\n",
            "O número sorteado foi 2!\n",
            "Você perdeu. Tente novamente.\n"
          ]
        }
      ],
      "source": [
        "from random import randint\n",
        "computador = randint(0,5) ## o computador vai escolher um número de 0 a 5.\n",
        "aposta = int(input('Escolha um número de 0 a 5.' ))\n",
        "print('O número sorteado foi {}!'.format(computador))\n",
        "if aposta == computador:\n",
        "  print('Você ganhou 10 mil.')\n",
        "print('Você perdeu. Tente novamente.')\n"
      ]
    },
    {
      "cell_type": "markdown",
      "metadata": {
        "id": "7ndfNHlMRSwU"
      },
      "source": [
        "Exercício Python 29: Escreva um programa que leia a velocidade de um carro. Se ele ultrapassar 80Km/h, mostre uma mensagem dizendo que ele foi multado. A multa vai custar R$7,00 por cada Km acima do limite."
      ]
    },
    {
      "cell_type": "code",
      "execution_count": null,
      "metadata": {
        "colab": {
          "base_uri": "https://localhost:8080/"
        },
        "id": "-Jyy0ywhRT8-",
        "outputId": "bc603730-a09d-4ce1-9448-8704b1053a67"
      },
      "outputs": [
        {
          "name": "stdout",
          "output_type": "stream",
          "text": [
            "Velocidade atual: 82\n",
            "ATENÇÃO! Velocidade atual: 82km/h, você foi MULTADO em R$14,00.\n"
          ]
        }
      ],
      "source": [
        "velocidade = int(input('Velocidade atual: '))\n",
        "radar = 80\n",
        "multa = 7\n",
        "if velocidade < radar:\n",
        "  print('Velocidade atual: {}km/h, boa viagem!'.format(velocidade))\n",
        "else:\n",
        "  print('ATENÇÃO! Velocidade atual: {}km/h, você foi MULTADO em R${},00.'.format(velocidade, (velocidade-80)*7))"
      ]
    },
    {
      "cell_type": "markdown",
      "metadata": {
        "id": "kU6-zeyvYMRx"
      },
      "source": [
        "Exercício Python 30: Crie um programa que leia um número inteiro e mostre na tela se ele é PAR ou ÍMPAR."
      ]
    },
    {
      "cell_type": "code",
      "execution_count": null,
      "metadata": {
        "colab": {
          "base_uri": "https://localhost:8080/"
        },
        "id": "8hzQAzuhY5lv",
        "outputId": "36b25876-78bb-462b-e0cc-409ed7d8cebc"
      },
      "outputs": [
        {
          "name": "stdout",
          "output_type": "stream",
          "text": [
            "Digite um número: 3\n",
            "Esse número é impar\n"
          ]
        }
      ],
      "source": [
        "numero = int(input('Digite um número: '))\n",
        "resto = numero % 2\n",
        "if resto == 0:\n",
        "  print('Esse número é par')\n",
        "else:\n",
        "  print('Esse número é impar')\n"
      ]
    },
    {
      "cell_type": "markdown",
      "metadata": {
        "id": "dRneIkMT-1V2"
      },
      "source": [
        "Exercício Python 31: Desenvolva um programa que pergunte a distância de uma viagem em Km. Calcule o preço da passagem, cobrando R$0,50 por Km para viagens de até 200Km e R$0,45 parta viagens mais longas.\n",
        "\n"
      ]
    },
    {
      "cell_type": "code",
      "execution_count": null,
      "metadata": {
        "colab": {
          "base_uri": "https://localhost:8080/"
        },
        "id": "iQyj3qfrZBxj",
        "outputId": "fcd9847f-3d57-4a62-850c-66caaaaf1b7d"
      },
      "outputs": [
        {
          "name": "stdout",
          "output_type": "stream",
          "text": [
            "Qual será a distância percorrida em Km? 210\n",
            "A distância estimada é de 210 Km, você pagará R$94.5 pela viagem.\n"
          ]
        }
      ],
      "source": [
        "distancia = int(input('Qual será a distância percorrida em Km? '))\n",
        "if distancia <= 200:\n",
        "  print('A distância estimada é de {} Km, você pagará R${} pela viagem.'.format(distancia, (distancia * (50/100))))\n",
        "else:\n",
        "  print('A distância estimada é de {} Km, você pagará R${} pela viagem.'.format(distancia, (distancia * (45/100))))"
      ]
    },
    {
      "cell_type": "markdown",
      "metadata": {
        "id": "v06alIqxZICQ"
      },
      "source": [
        "\n",
        "Exercício Python 32: Faça um programa que leia um ano qualquer e mostre se ele é bissexto."
      ]
    },
    {
      "cell_type": "code",
      "execution_count": null,
      "metadata": {
        "id": "yAI3FFL0ZOU5"
      },
      "outputs": [],
      "source": []
    },
    {
      "cell_type": "markdown",
      "metadata": {
        "id": "Mlc23JdzZO2O"
      },
      "source": [
        "Exercício Python 33: Faça um programa que leia três números e mostre qual é o maior e qual é o menor."
      ]
    },
    {
      "cell_type": "code",
      "execution_count": null,
      "metadata": {
        "id": "xGAVF7ccZTVQ"
      },
      "outputs": [],
      "source": []
    },
    {
      "cell_type": "markdown",
      "metadata": {
        "id": "gEXcIDy2ZT79"
      },
      "source": [
        "Exercício Python 34: Escreva um programa que pergunte o salário de um funcionário e calcule o valor do seu aumento. Para salários superiores a R$1250,00, calcule um aumento de 10%. Para os inferiores ou iguais, o aumento é de 15%."
      ]
    },
    {
      "cell_type": "code",
      "execution_count": null,
      "metadata": {
        "id": "2BNuK1cTZamC"
      },
      "outputs": [],
      "source": []
    },
    {
      "cell_type": "markdown",
      "metadata": {
        "id": "BciPTJg4Zbqo"
      },
      "source": [
        "Exercício Python 35: Desenvolva um programa que leia o comprimento de três retas e diga ao usuário se elas podem ou não formar um triângulo."
      ]
    },
    {
      "cell_type": "code",
      "execution_count": null,
      "metadata": {
        "id": "tltyZR97Zke1"
      },
      "outputs": [],
      "source": []
    },
    {
      "cell_type": "markdown",
      "metadata": {
        "id": "2orefnF_ZmN3"
      },
      "source": [
        "Exercício Python 36: Escreva um programa para aprovar o empréstimo bancário para a compra de uma casa. Pergunte o valor da casa, o salário do comprador e em quantos anos ele vai pagar. A prestação mensal não pode exceder 30% do salário ou então o empréstimo será negado."
      ]
    },
    {
      "cell_type": "code",
      "execution_count": null,
      "metadata": {
        "id": "iXyFyuGgb3vr",
        "colab": {
          "base_uri": "https://localhost:8080/"
        },
        "outputId": "a89d06d9-5350-4e6f-bb8f-aa76e105d842"
      },
      "outputs": [
        {
          "output_type": "stream",
          "name": "stdout",
          "text": [
            "VALOR DO IMÓVEL: 100000\n",
            "SALÁRIO LÍQUIDO: 5000\n",
            "PERÍODO DO PAGAMENTO (ANOS)15\n",
            "LIMTE: 1500.0\n",
            "EMPRESTIMO APROVADO. PRESTAÇÕES: 555.56.\n"
          ]
        }
      ],
      "source": [
        "casa = float(input('VALOR DO IMÓVEL: '))\n",
        "salario = float(input('SALÁRIO LÍQUIDO: '))\n",
        "anos = int(input('PERÍODO DO PAGAMENTO (ANOS)'))\n",
        "periodo = (anos)*12\n",
        "prestacao = casa/periodo\n",
        "percentual = salario * 0.30\n",
        "\n",
        "print(f'LIMTE: {percentual}')\n",
        "\n",
        "if prestacao > percentual:\n",
        "  print(f'EMPRESTIMO NEGADO. PRESTAÇÕES: {prestacao:.2f} ACIMA DO LIMITE.')\n",
        "\n",
        "else:\n",
        "  print(f'EMPRESTIMO APROVADO. PRESTAÇÕES: {prestacao:.2f}.')"
      ]
    },
    {
      "cell_type": "markdown",
      "metadata": {
        "id": "-7ox2rjkb4Rx"
      },
      "source": [
        "Exercício Python 37: Escreva um programa em Python que leia um número inteiro qualquer e peça para o usuário escolher qual será a base de conversão: 1 para binário, 2 para octal e 3 para hexadecimal.\n"
      ]
    },
    {
      "cell_type": "code",
      "execution_count": null,
      "metadata": {
        "id": "zHj4OvD3d8x9"
      },
      "outputs": [],
      "source": []
    },
    {
      "cell_type": "markdown",
      "metadata": {
        "id": "34pEyMTaeFdi"
      },
      "source": [
        "Exercício Python 038: Escreva um programa que leia dois números inteiros e compare-os. mostrando na tela uma mensagem:\n",
        "\n",
        "– O primeiro valor é maior\n",
        "\n",
        "– O segundo valor é maior\n",
        "\n",
        "– Não existe valor maior, os dois são iguais\n"
      ]
    },
    {
      "cell_type": "code",
      "execution_count": null,
      "metadata": {
        "id": "Ne0VB2F4kT6d",
        "colab": {
          "base_uri": "https://localhost:8080/"
        },
        "outputId": "6af64de6-fda5-47e0-ab6b-74ce9fbb9ad4"
      },
      "outputs": [
        {
          "output_type": "stream",
          "name": "stdout",
          "text": [
            "Digite um número inteiro: 5\n",
            "Digite outro número inteiro: 2\n",
            "O número 5 é maior que 2.\n"
          ]
        }
      ],
      "source": [
        "a = int(input('Digite um número inteiro: '))\n",
        "b = int(input('Digite outro número inteiro: '))\n",
        "\n",
        "if a > b:\n",
        "  print(f'O número {a} é maior que {b}.')\n",
        "elif b > a:\n",
        "  print(f'O número {b} é maior que {a}.')\n",
        "else:\n",
        "  print('Não há diferença entre os números.')"
      ]
    },
    {
      "cell_type": "code",
      "execution_count": null,
      "metadata": {
        "id": "NNqK2chdlOBq"
      },
      "outputs": [],
      "source": []
    },
    {
      "cell_type": "markdown",
      "metadata": {
        "id": "4IX8LuHslOye"
      },
      "source": [
        "Exercício Python 39: Faça um programa que leia o ano de nascimento de um jovem e informe, de acordo com a sua idade, se ele ainda vai se alistar ao serviço militar, se é a hora exata de se alistar ou se já passou do tempo do alistamento. Seu programa também deverá mostrar o tempo que falta ou que passou do prazo."
      ]
    },
    {
      "cell_type": "code",
      "execution_count": null,
      "metadata": {
        "id": "TLL-Wqz6lmyI"
      },
      "outputs": [],
      "source": []
    },
    {
      "cell_type": "markdown",
      "metadata": {
        "id": "oEP296TDlnSO"
      },
      "source": [
        "Exercício Python 040: Crie um programa que leia duas notas de um aluno e calcule sua média, mostrando uma mensagem no final, de acordo com a média atingida:\n",
        "\n",
        "– Média abaixo de 5.0: REPROVADO\n",
        "\n",
        "– Média entre 5.0 e 6.9: RECUPERAÇÃO\n",
        "\n",
        "– Média 7.0 ou superior: APROVADO"
      ]
    },
    {
      "cell_type": "code",
      "execution_count": null,
      "metadata": {
        "colab": {
          "base_uri": "https://localhost:8080/"
        },
        "id": "33Qe5moflx6a",
        "outputId": "1cfec949-c2f4-4af1-a402-37acb2c4e843"
      },
      "outputs": [
        {
          "name": "stdout",
          "output_type": "stream",
          "text": [
            "Qual a sua primeira nota? 5\n",
            "Qual a sua segunda nota? 4\n",
            "Sua média final é 4.5, você foi REPROVADO.\n"
          ]
        }
      ],
      "source": [
        "media1 = float(input('Qual a sua primeira nota? ' ))\n",
        "media2 = float(input('Qual a sua segunda nota? '))\n",
        "media_final = (media1 + media2) / 2\n",
        "if media_final <= 5:\n",
        "  print('Sua média final é {}, você foi REPROVADO.'.format(media_final))\n",
        "elif media_final >= 7:\n",
        "  print('Sua média final é {}, você foi APROVADO.'.format(media_final))\n",
        "else:\n",
        "  print('Sua média final é {}, você ficou em RECUPERAÇÃO.'.format(media_final))"
      ]
    },
    {
      "cell_type": "markdown",
      "metadata": {
        "id": "Op8Aks3ey8KZ"
      },
      "source": [
        "Exercício Python 041: A Confederação Nacional de Natação precisa de um programa que leia o ano de nascimento de um atleta e mostre sua categoria, de acordo com a idade:\n",
        "\n",
        "– Até 9 anos: MIRIM\n",
        "\n",
        "– Até 14 anos: INFANTIL\n",
        "\n",
        "– Até 19 anos: JÚNIOR\n",
        "\n",
        "– Até 25 anos: SÊNIOR\n",
        "\n",
        "– Acima de 25 anos: MASTER\n"
      ]
    },
    {
      "cell_type": "code",
      "execution_count": null,
      "metadata": {
        "id": "NtPXiRJ4y7UF"
      },
      "outputs": [],
      "source": []
    },
    {
      "cell_type": "markdown",
      "metadata": {
        "id": "iFAIsVaxy9gx"
      },
      "source": [
        "Exercício Python 42: Refaça o DESAFIO 35 dos triângulos, acrescentando o recurso de mostrar que tipo de triângulo será formado:\n",
        "\n",
        "– EQUILÁTERO: todos os lados iguais\n",
        "\n",
        "– ISÓSCELES: dois lados iguais, um diferente\n",
        "\n",
        "– ESCALENO: todos os lados diferentes"
      ]
    },
    {
      "cell_type": "code",
      "execution_count": null,
      "metadata": {
        "id": "JULuIJTH0Ifp"
      },
      "outputs": [],
      "source": []
    },
    {
      "cell_type": "markdown",
      "metadata": {
        "id": "mz8Ea-q32pNg"
      },
      "source": [
        "Exercício Python 43: Desenvolva uma lógica que leia o peso e a altura de uma pessoa, calcule seu Índice de Massa Corporal (IMC) e mostre seu status, de acordo com a tabela abaixo:\n",
        "\n",
        "– IMC abaixo de 18,5: Abaixo do Peso\n",
        "\n",
        "– Entre 18,5 e 25: Peso Ideal\n",
        "\n",
        "– 25 até 30: Sobrepeso\n",
        "\n",
        "– 30 até 40: Obesidade\n",
        "\n",
        "– Acima de 40: Obesidade Mórbida"
      ]
    },
    {
      "cell_type": "code",
      "execution_count": null,
      "metadata": {
        "colab": {
          "base_uri": "https://localhost:8080/"
        },
        "id": "wsF4AAPV2r7h",
        "outputId": "7ce1e0b3-36f8-4537-9242-332d02d31069"
      },
      "outputs": [
        {
          "name": "stdout",
          "output_type": "stream",
          "text": [
            "Qual a sua altura em Cm? 1.70\n",
            "Qual o seu peso em Kg? 120\n",
            "Seu IMC é 41.52.\n",
            "Você está com obesidade mórbida.\n"
          ]
        }
      ],
      "source": [
        "altura = float(input('Qual a sua altura em Cm? '))\n",
        "peso = float(input('Qual o seu peso em Kg? '))\n",
        "imc = peso / altura ** 2\n",
        "print('Seu IMC é {:.2f}.'.format(imc))\n",
        "if imc <= 18.5:\n",
        "  print('Você está abaixo do peso!')\n",
        "elif imc > 18.5 and imc <= 25:\n",
        "  print('Você está no peso ideal.')\n",
        "elif imc > 25 and imc <= 30:\n",
        "  print('Você está com sobrepeso.')\n",
        "elif imc > 30 and imc <= 40:\n",
        "  print('Você está com obsidade.')\n",
        "elif imc > 40:\n",
        "  print('Você está com obesidade mórbida.')"
      ]
    },
    {
      "cell_type": "markdown",
      "metadata": {
        "id": "gZTzu8ub4XTT"
      },
      "source": [
        "Exercício Python 44: Elabore um programa que calcule o valor a ser pago por um produto, considerando o seu preço normal e condição de pagamento:\n",
        "\n",
        "– à vista dinheiro/cheque: 10% de desconto\n",
        "\n",
        "– à vista no cartão: 5% de desconto\n",
        "\n",
        "– em até 2x no cartão: preço formal\n",
        "\n",
        "– 3x ou mais no cartão: 20% de juros"
      ]
    },
    {
      "cell_type": "code",
      "execution_count": null,
      "metadata": {
        "id": "K7h82s2b4Yyb"
      },
      "outputs": [],
      "source": []
    },
    {
      "cell_type": "markdown",
      "metadata": {
        "id": "rQWo20lh4ZFj"
      },
      "source": [
        "Exercício Python 45: Crie um programa que faça o computador jogar Jokenpô com você."
      ]
    },
    {
      "cell_type": "code",
      "execution_count": null,
      "metadata": {
        "colab": {
          "base_uri": "https://localhost:8080/"
        },
        "id": "bVGerzEFOXbA",
        "outputId": "690e231f-34ab-459d-c813-06715bdc0054"
      },
      "outputs": [
        {
          "name": "stdout",
          "output_type": "stream",
          "text": [
            "<<<<JO KEN PO>>>>\n",
            "\n",
            "Escolha sua opção: \n",
            " [0] = PEDRA \n",
            " [1] = PAPEL \n",
            " [2] = TESOURA \n",
            "Qual a sua opção: 1\n",
            "=o=o=o=o=o=o=o=o=o=o=o\n",
            "Você escolheu: PAPEL\n",
            "\n",
            "JO  ✊\n",
            "KEN  ✊\n",
            "PO  ✊\n",
            "\n",
            "O computador escolheu: PAPEL\n",
            "=o=o=o=o=o=o=o=o=o=o=o\n",
            "✋ > ✋ \n",
            "EMPATOU! ✴✧✦\n"
          ]
        }
      ],
      "source": [
        "from random import randint\n",
        "from time import sleep\n",
        "\n",
        "opcoes = ['PEDRA', 'PAPEL', 'TESOURA']\n",
        "escolha_computador = randint(0,2)\n",
        "\n",
        "print ('<<<<JO KEN PO>>>>\\n')\n",
        "\n",
        "print ('Escolha sua opção: \\n [0] = PEDRA \\n [1] = PAPEL \\n [2] = TESOURA ')\n",
        "\n",
        "escolha_usuario = int(input('Qual a sua opção: '))\n",
        "\n",
        "print ('=o'*11)\n",
        "\n",
        "print (f'Você escolheu: {opcoes[escolha_usuario]}\\n')\n",
        "\n",
        "print ('JO  ✊')\n",
        "sleep(1)\n",
        "print ('KEN  ✊')\n",
        "sleep(1)\n",
        "print ('PO  ✊')\n",
        "sleep(1)\n",
        "print (f'\\nO computador escolheu: {opcoes[escolha_computador]}')\n",
        "\n",
        "print ('=o'*11)\n",
        "\n",
        "##simbolos ✊✋✌\n",
        "if escolha_computador == 0: ##✊\n",
        "  if escolha_usuario ==  1:\n",
        "    print('✊ < ✋ \\nVocê VENCEU! ✴✧✦')\n",
        "  elif escolha_usuario == 2:\n",
        "    print('✊ > ✌ \\nVocê PERDEU! ✴✧✦')\n",
        "  elif escolha_usuario == 0:\n",
        "    print('✊ > ✊ \\nEMPATOU! ✴✧✦')\n",
        "  else:\n",
        "    print ('ESCOLHA INVÁLIDA')\n",
        "elif escolha_computador == 1: ## ✋\n",
        "  if escolha_usuario == 0:\n",
        "    print ('✋ < ✊ \\nVocê PERDEU! ✴✧✦')\n",
        "  elif escolha_usuario == 2:\n",
        "    print ('✋ < ✌ \\nVocê VENCEU! ✴✧✦')\n",
        "  elif escolha_usuario == 1:\n",
        "    print('✋ > ✋ \\nEMPATOU! ✴✧✦')\n",
        "  else:\n",
        "    print ('ESCOLHA INVÁLIDA')\n",
        "\n",
        "elif escolha_computador == 2: ##✌\n",
        "  if escolha_usuario == 0:\n",
        "    print ('✌ < ✊ \\nVocê VENCEU! ✴✧✦')\n",
        "  elif escolha_usuario == 1:\n",
        "    print('✌ < ✋ \\nVocê PERDEU! ✴✧✦')\n",
        "  elif escolha_usuario == 2:\n",
        "    print('✌ > ✌ \\nEMPATOU! ✴✧✦')\n",
        "  else:\n",
        "    print ('ESCOLHA INVÁLIDA')\n"
      ]
    },
    {
      "cell_type": "code",
      "execution_count": null,
      "metadata": {
        "id": "l_zzfKkg7A0R"
      },
      "outputs": [],
      "source": [
        "import random\n",
        "\n",
        "def jogar_jokenpo(escolha_usuario):\n",
        "    opcoes = ['PEDRA', 'PAPEL', 'TESOURA']\n",
        "    escolha_computador = random.choice(opcoes)\n",
        "\n",
        "    print(f'Você escolheu: {escolha_usuario}')\n",
        "    print(f'O computador escolheu: {escolha_computador}')\n",
        "\n",
        "    if escolha_usuario == escolha_computador:\n",
        "        resultado = 'Empate!'\n",
        "    elif (escolha_usuario == 'PEDRA' and escolha_computador == 'TESOURA') or \\\n",
        "         (escolha_usuario == 'PAPEL' and escolha_computador == 'PEDRA') or \\\n",
        "         (escolha_usuario == 'TESOURA' and escolha_computador == 'PAPEL'):\n",
        "        resultado = 'Você ganhou!'\n",
        "    else:\n",
        "        resultado = 'Você perdeu!'\n",
        "\n",
        "    print(resultado)\n",
        "\n",
        "# Solicita ao usuário que faça uma escolha\n",
        "escolha_usuario = input('Escolha entre PEDRA, PAPEL ou TESOURA: ').upper()\n",
        "\n",
        "# Verifica se a escolha é válida\n",
        "if escolha_usuario in ['PEDRA', 'PAPEL', 'TESOURA']:\n",
        "    jogar_jokenpo(escolha_usuario)\n",
        "else:\n",
        "    print('Escolha inválida. Por favor, escolha entre PEDRA, PAPEL ou TESOURA.')\n"
      ]
    },
    {
      "cell_type": "markdown",
      "metadata": {
        "id": "S6Bl9Bhv3gMF"
      },
      "source": [
        "Exercício Python 46: Faça um programa que mostre na tela uma contagem regressiva para o estouro de fogos de artifício, indo de 10 até 0, com uma pausa de 1 segundo entre eles."
      ]
    },
    {
      "cell_type": "code",
      "execution_count": null,
      "metadata": {
        "colab": {
          "base_uri": "https://localhost:8080/"
        },
        "id": "GHMPM3Xk4MY0",
        "outputId": "8ad1a379-d27d-454b-a4bc-317cca989a09"
      },
      "outputs": [
        {
          "name": "stdout",
          "output_type": "stream",
          "text": [
            "10\n",
            "9\n",
            "8\n",
            "7\n",
            "6\n",
            "5\n",
            "4\n",
            "3\n",
            "2\n",
            "1\n",
            "0\n",
            "BOOM!\n"
          ]
        }
      ],
      "source": [
        "from time import sleep\n",
        "for c in range(10,-1, -1):\n",
        "  print(c)\n",
        "  sleep(1)\n",
        "print('BOOM!')"
      ]
    },
    {
      "cell_type": "markdown",
      "metadata": {
        "id": "4CCertXt4O18"
      },
      "source": [
        "Exercício Python 47: Crie um programa que mostre na tela todos os números pares que estão no intervalo entre 1 e 50.\n",
        "\n"
      ]
    },
    {
      "cell_type": "code",
      "execution_count": null,
      "metadata": {
        "colab": {
          "base_uri": "https://localhost:8080/"
        },
        "id": "T4O3f73f4eOn",
        "outputId": "b60a4692-082c-4b95-a088-2dd12c70398b"
      },
      "outputs": [
        {
          "name": "stdout",
          "output_type": "stream",
          "text": [
            "2\n",
            "4\n",
            "6\n",
            "8\n",
            "10\n",
            "12\n",
            "14\n",
            "16\n",
            "18\n",
            "20\n",
            "22\n",
            "24\n",
            "26\n",
            "28\n",
            "30\n",
            "32\n",
            "34\n",
            "36\n",
            "38\n",
            "40\n",
            "42\n",
            "44\n",
            "46\n",
            "48\n",
            "50\n"
          ]
        }
      ],
      "source": [
        "for par in range(1,51):\n",
        "  if par % 2 == 0:\n",
        "    print (par)"
      ]
    },
    {
      "cell_type": "code",
      "execution_count": null,
      "metadata": {
        "colab": {
          "base_uri": "https://localhost:8080/"
        },
        "id": "IyKIfZJXdGhh",
        "outputId": "b5294084-be31-44f6-ef21-4e0e5ad634ec"
      },
      "outputs": [
        {
          "name": "stdout",
          "output_type": "stream",
          "text": [
            "2\n",
            "4\n",
            "6\n",
            "8\n",
            "10\n",
            "12\n",
            "14\n",
            "16\n",
            "18\n",
            "20\n",
            "22\n",
            "24\n",
            "26\n",
            "28\n",
            "30\n",
            "32\n",
            "34\n",
            "36\n",
            "38\n",
            "40\n",
            "42\n",
            "44\n",
            "46\n",
            "48\n",
            "50\n"
          ]
        }
      ],
      "source": [
        "for par in range(2,51,2):\n",
        "  print(par)"
      ]
    },
    {
      "cell_type": "markdown",
      "metadata": {
        "id": "tukXjOGK44RB"
      },
      "source": [
        "Exercício Python 48: Faça um programa que calcule a soma entre todos os números que são múltiplos de três e que se encontram no intervalo de 1 até 500."
      ]
    },
    {
      "cell_type": "code",
      "execution_count": null,
      "metadata": {
        "colab": {
          "base_uri": "https://localhost:8080/"
        },
        "id": "u4sE-IAY7FoZ",
        "outputId": "43a2c35b-795f-4f18-80ca-b6999365aebb"
      },
      "outputs": [
        {
          "name": "stdout",
          "output_type": "stream",
          "text": [
            "A soma de todos os números múltiplos de três no intervalo de 1 a 500 é: 41583\n"
          ]
        }
      ],
      "source": [
        "soma = 0\n",
        "\n",
        "for num in range(1, 501):\n",
        "    if num % 3 == 0:\n",
        "        soma += num\n",
        "\n",
        "print(\"A soma de todos os números múltiplos de três no intervalo de 1 a 500 é:\", soma)\n"
      ]
    },
    {
      "cell_type": "markdown",
      "metadata": {
        "id": "RKi1jfPq67Cr"
      },
      "source": [
        "Exercício Python 49: Refaça o DESAFIO 9, mostrando a tabuada de um número que o usuário escolher, só que agora utilizando um laço for.\n",
        "\n"
      ]
    },
    {
      "cell_type": "code",
      "execution_count": null,
      "metadata": {
        "colab": {
          "base_uri": "https://localhost:8080/"
        },
        "id": "Ck3VPagzGg1H",
        "outputId": "175207da-9354-455b-fc0b-dd90416ad7ab"
      },
      "outputs": [
        {
          "name": "stdout",
          "output_type": "stream",
          "text": [
            "Digite um número:3\n",
            "3x1 = 3\n",
            "3x2 = 6\n",
            "3x3 = 9\n",
            "3x4 = 12\n",
            "3x5 = 15\n",
            "3x6 = 18\n",
            "3x7 = 21\n",
            "3x8 = 24\n",
            "3x9 = 27\n",
            "3x10 = 30\n"
          ]
        }
      ],
      "source": [
        "numero = int(input('Digite um número:'))\n",
        "for c in range(1,11):\n",
        "  print(f'{numero}x{c} = {numero*c}')"
      ]
    },
    {
      "cell_type": "markdown",
      "metadata": {
        "id": "SOo5xNWSGhnR"
      },
      "source": [
        "Exercício Python 50: Desenvolva um programa que leia seis números inteiros e mostre a soma apenas daqueles que forem pares. Se o valor digitado for ímpar, desconsidere-o."
      ]
    },
    {
      "cell_type": "code",
      "execution_count": null,
      "metadata": {
        "colab": {
          "base_uri": "https://localhost:8080/"
        },
        "id": "NcIdiMIbGztY",
        "outputId": "489fcd1c-a4a5-47fe-a35a-e7a6289927eb"
      },
      "outputs": [
        {
          "name": "stdout",
          "output_type": "stream",
          "text": [
            "Digite um número:1\n",
            "Digite um número:2\n",
            "Digite um número:3\n",
            "Digite um número:4\n",
            "Digite um número:5\n",
            "Digite um número:6\n",
            "Foram o total de 3 numeros pares e a soma é igual a 12.\n"
          ]
        }
      ],
      "source": [
        "soma = 0\n",
        "c = 0\n",
        "for n in range(1,7):\n",
        "  num = int(input('Digite um número:'))\n",
        "  if num % 2 == 0:\n",
        "    soma += num\n",
        "    c += 1\n",
        "print(f'Foram o total de {c} numeros pares e a soma é igual a {soma}.')\n",
        "\n"
      ]
    },
    {
      "cell_type": "markdown",
      "metadata": {
        "id": "KhnbKyyzG0Tt"
      },
      "source": [
        "Exercício Python 51: Desenvolva um programa que leia o primeiro termo e a razão de uma PA. No final, mostre os 10 primeiros termos dessa progressão."
      ]
    },
    {
      "cell_type": "code",
      "execution_count": null,
      "metadata": {
        "colab": {
          "base_uri": "https://localhost:8080/"
        },
        "id": "st4EGerANNdg",
        "outputId": "ed3926d7-3b38-4b3d-eabf-ae9a97c26f2e"
      },
      "outputs": [
        {
          "name": "stdout",
          "output_type": "stream",
          "text": [
            "PROGRESSÃO ARITIMÉTICA\n",
            "Primeiro Termo:0\n",
            "Razão:2\n",
            "0\n",
            "2\n",
            "4\n",
            "6\n",
            "8\n",
            "10\n",
            "12\n",
            "14\n",
            "16\n",
            "18\n",
            "Acabou!\n"
          ]
        }
      ],
      "source": [
        "print ('PROGRESSÃO ARITIMÉTICA')\n",
        "\n",
        "termo = int(input('Primeiro Termo:'))\n",
        "razao = int(input('Razão:'))\n",
        "pa = 0\n",
        "for n in range(0,10):\n",
        "  pa = (termo+n)*razao\n",
        "  print(pa)\n",
        "\n",
        "print('Acabou!')"
      ]
    },
    {
      "cell_type": "markdown",
      "metadata": {
        "id": "v06oP37XPUvB"
      },
      "source": []
    },
    {
      "cell_type": "markdown",
      "metadata": {
        "id": "N5Dbqgx5PhA8"
      },
      "source": [
        "Exercício Python 52: Faça um programa que leia um número inteiro e diga se ele é ou não um número primo.**negrito**"
      ]
    },
    {
      "cell_type": "code",
      "execution_count": null,
      "metadata": {
        "colab": {
          "base_uri": "https://localhost:8080/"
        },
        "id": "CZz66IvYPjTj",
        "outputId": "d6f0770b-1ae0-4416-a82f-b69a59c45431"
      },
      "outputs": [
        {
          "name": "stdout",
          "output_type": "stream",
          "text": [
            "Digite um número inteiro: 7\n",
            "7 é um número primo.\n"
          ]
        }
      ],
      "source": [
        "num = int(input(\"Digite um número inteiro: \"))\n",
        "\n",
        "# Um número primo é maior que 1 e divisível apenas por 1 e por ele mesmo\n",
        "if num > 1:\n",
        "    # Verifica se o número é divisível por qualquer número entre 2 e ele mesmo - 1\n",
        "    for i in range(2, num):\n",
        "        if num % i == 0:\n",
        "            print(num, \"não é um número primo.\")\n",
        "            break\n",
        "    else:\n",
        "        print(num, \"é um número primo.\")\n",
        "else:\n",
        "    print(num, \"não é um número primo.\")\n"
      ]
    },
    {
      "cell_type": "markdown",
      "metadata": {
        "id": "fsyUDJGqhR9x"
      },
      "source": [
        "Exercício Python 53: Crie um programa que leia uma frase qualquer e diga se ela é um palíndromo, desconsiderando os espaços. Exemplos de palíndromos:\n"
      ]
    },
    {
      "cell_type": "code",
      "execution_count": null,
      "metadata": {
        "colab": {
          "base_uri": "https://localhost:8080/"
        },
        "id": "P_N4XNDvf2Yw",
        "outputId": "35257aff-cf10-4ae4-d56c-d0def11b298d"
      },
      "outputs": [
        {
          "name": "stdout",
          "output_type": "stream",
          "text": [
            "Escreva uma frase: o lobo ama o bolo\n",
            "Isso é um palindromo\n"
          ]
        }
      ],
      "source": [
        "frase = input('Escreva uma frase: ').replace(' ','').upper()\n",
        "palindromo = frase[::-1]\n",
        "if frase == palindromo:\n",
        "  print('Isso é um palindromo')\n",
        "else:\n",
        "  print('Frase normal.')"
      ]
    },
    {
      "cell_type": "markdown",
      "metadata": {
        "id": "FmIy0c-Pt3Cn"
      },
      "source": [
        "Exercício Python 53: Crie um programa que leia uma frase qualquer e diga se ela é um palíndromo, desconsiderando os espaços. Exemplos de palíndromos:"
      ]
    },
    {
      "cell_type": "code",
      "execution_count": null,
      "metadata": {
        "colab": {
          "base_uri": "https://localhost:8080/"
        },
        "id": "lfZt448Ymr4y",
        "outputId": "9963f08a-637d-4713-bb8a-0cdd204ef2d4"
      },
      "outputs": [
        {
          "name": "stdout",
          "output_type": "stream",
          "text": [
            "Escreva uma frase: Hannah\n",
            "A frase HANNAH é um palíndromo.\n"
          ]
        }
      ],
      "source": [
        "frase = str(input('Escreva uma frase: ')).replace(' ','').upper()\n",
        "for f in range(len(frase)-1, -1, -1):\n",
        "  p = frase[::-1]\n",
        "if frase == p:\n",
        "  print(f'A frase {frase} é um palíndromo.')\n",
        "else:\n",
        "  print('A frase é normal.')"
      ]
    },
    {
      "cell_type": "code",
      "execution_count": null,
      "metadata": {
        "id": "x9SFPrDAuRdu"
      },
      "outputs": [],
      "source": [
        "def eh_palindromo(frase):\n",
        "    # Remover espaços da frase e converter para minúsculas\n",
        "    frase = frase.replace(\" \", \"\").lower()\n",
        "\n",
        "    # Verificar se a frase é igual à sua inversa\n",
        "    if frase == frase[::-1]:\n",
        "        return True\n",
        "    else:\n",
        "        return False\n",
        "\n",
        "frase = input(\"Digite uma frase: \")\n",
        "\n",
        "if eh_palindromo(frase):\n",
        "    print(\"A frase é um palíndromo!\")\n",
        "else:\n",
        "    print(\"A frase não é um palíndromo.\")\n"
      ]
    },
    {
      "cell_type": "markdown",
      "metadata": {
        "id": "f8TuegBOu-Y_"
      },
      "source": [
        "Exercício Python 54: Crie um programa que leia o ano de nascimento de sete pessoas. No final, mostre quantas pessoas ainda não atingiram a maioridade e quantas já são maiores.\n",
        "\n",
        "\n",
        "\n",
        "```\n",
        "# Isto está formatado como código\n",
        "```\n",
        "\n"
      ]
    },
    {
      "cell_type": "code",
      "execution_count": null,
      "metadata": {
        "colab": {
          "base_uri": "https://localhost:8080/"
        },
        "id": "iPalPUcbhPXO",
        "outputId": "f3d119bd-42f5-493d-d1b1-e20324a4b834"
      },
      "outputs": [
        {
          "name": "stdout",
          "output_type": "stream",
          "text": [
            "Digite a 1ª data de nascimento : 2018\n",
            "Digite a 2ª data de nascimento : 2002\n",
            "Digite a 3ª data de nascimento : 2005\n",
            "Digite a 4ª data de nascimento : 2019\n",
            "Digite a 5ª data de nascimento : 2000\n",
            "Digite a 6ª data de nascimento : 1985\n",
            "Digite a 7ª data de nascimento : 1982\n",
            "Foram 2 menor(es), 5 maior(es) e 0 inválida(s)\n"
          ]
        }
      ],
      "source": [
        "ano = 2024\n",
        "maior = 0\n",
        "menor = 0\n",
        "invalida = 0\n",
        "for n in range(1,8):\n",
        "  data = int(input(f'Digite a {n}ª data de nascimento : '))\n",
        "  id = ano - data\n",
        "  if id > 18:\n",
        "    maior += 1\n",
        "  elif id < 18:\n",
        "    menor += 1\n",
        "  else:\n",
        "    invalida +=1\n",
        "\n",
        "print(f'Foram {menor} menor(es), {maior} maior(es) e {invalida} inválida(s)')\n"
      ]
    },
    {
      "cell_type": "markdown",
      "metadata": {
        "id": "CVT_hIEK01jM"
      },
      "source": [
        "Exercício Python 55: Faça um programa que leia o peso de cinco pessoas. No final, mostre qual foi o maior e o menor peso lidos.\n",
        "\n",
        "*texto em itálico*"
      ]
    },
    {
      "cell_type": "code",
      "execution_count": null,
      "metadata": {
        "colab": {
          "base_uri": "https://localhost:8080/"
        },
        "id": "coNVhOcu04V0",
        "outputId": "bc26de58-8adb-4c5b-d201-5cb1dc1de93b"
      },
      "outputs": [
        {
          "name": "stdout",
          "output_type": "stream",
          "text": [
            "Digite o peso da 1ª pessoa: 55\n",
            "Digite o peso da 2ª pessoa: 57\n",
            "Digite o peso da 3ª pessoa: 85\n",
            "Digite o peso da 4ª pessoa: 82\n",
            "Digite o peso da 5ª pessoa: 88\n",
            "O maior peso lido fon 88.0 kg.\n",
            "O menor peso lido foi 55.0 kg.\n"
          ]
        }
      ],
      "source": [
        "maior_peso = menor_peso = 0\n",
        "for n in range(1,6):\n",
        "  peso = float(input(f'Digite o peso da {n}ª pessoa: '))\n",
        "  if n == 1:\n",
        "     maior_peso = menor_peso = peso\n",
        "  else:\n",
        "\n",
        "    if peso > maior_peso:\n",
        "       maior_peso = peso\n",
        "    elif peso < menor_peso:\n",
        "      menor_peso = peso\n",
        "\n",
        "print(f\"O maior peso lido fon {maior_peso} kg.\")\n",
        "print(f\"O menor peso lido foi {menor_peso} kg.\")\n",
        "\n"
      ]
    },
    {
      "cell_type": "markdown",
      "metadata": {
        "id": "yFoAazxb3985"
      },
      "source": [
        "Exercício Python 56: Desenvolva um programa que leia o nome, idade e sexo de 4 pessoas. No final do programa, mostre: a média de idade do grupo, qual é o nome do homem mais velho e quantas mulheres têm menos de 20 anos.\n",
        "\n"
      ]
    },
    {
      "cell_type": "code",
      "execution_count": null,
      "metadata": {
        "id": "AkPgN2884Fk1"
      },
      "outputs": [],
      "source": [
        "soma_idade = 0\n",
        "maior_idade_homem = 0\n",
        "nome_homem_mais_velho = ''\n",
        "contagem_mulheres_menos_20 = 0\n",
        "\n",
        "for pessoa in range(1, 5):\n",
        "    print(f'--- {pessoa}ª pessoa ---')\n",
        "    nome = input('Nome: ')\n",
        "    idade = int(input('Idade: '))\n",
        "    sexo = input('Sexo [M/F]: ').strip().upper()\n",
        "\n",
        "    soma_idade += idade\n",
        "\n",
        "    if sexo == 'M' and idade > maior_idade_homem:\n",
        "        maior_idade_homem = idade\n",
        "        nome_homem_mais_velho = nome\n",
        "\n",
        "    if sexo == 'F' and idade < 20:\n",
        "        contagem_mulheres_menos_20 += 1\n",
        "\n",
        "media_idade = soma_idade / 4\n",
        "\n",
        "print(f'\\nA média de idade do grupo é de {media_idade:.1f} anos.')\n",
        "print(f'O homem mais velho se chama {nome_homem_mais_velho} e tem {maior_idade_homem} anos.')\n",
        "print(f'{contagem_mulheres_menos_20} mulheres têm menos de 20 anos.')\n"
      ]
    },
    {
      "cell_type": "markdown",
      "metadata": {
        "id": "1jAcq27GaLlr"
      },
      "source": [
        "Exercício Python 57: Faça um programa que leia o sexo de uma pessoa, mas só aceite os valores ‘M’ ou ‘F’. Caso esteja errado, peça a digitação novamente até ter um valor correto."
      ]
    },
    {
      "cell_type": "code",
      "execution_count": null,
      "metadata": {
        "colab": {
          "base_uri": "https://localhost:8080/"
        },
        "id": "THUzBdbYSBSM",
        "outputId": "14a628af-7b51-4753-e2b1-4050c45b47bb"
      },
      "outputs": [
        {
          "name": "stdout",
          "output_type": "stream",
          "text": [
            "Sexo:\n",
            " M = MASCULINO\n",
            " F = FEMININO\n",
            " O = OUTRO\n",
            "Informe seu sexo? t\n",
            "Dados inválidos. Informe seu sexo novamente? g\n",
            "Dados inválidos. Informe seu sexo novamente? f\n",
            "Dado registrado com sucesso. Usuário do sexo Feminino.\n"
          ]
        }
      ],
      "source": [
        "print('Sexo:\\n M = MASCULINO\\n F = FEMININO\\n O = OUTRO')\n",
        "sexo = input('Informe seu sexo? ').strip().upper()\n",
        "while sexo not in ['F', 'M', 'O']:\n",
        "  sexo = input('Dados inválidos. Informe seu sexo novamente? ').strip().upper()\n",
        "if sexo == 'M':\n",
        "  sexo = 'Masculino'\n",
        "elif sexo == 'F':\n",
        "  sexo = 'Feminino'\n",
        "elif sexo == 'O':\n",
        "  sexo = 'Outro'\n",
        "\n",
        "print(f'Dado registrado com sucesso. Usuário do sexo {sexo}.')"
      ]
    },
    {
      "cell_type": "markdown",
      "metadata": {
        "id": "UvSq6GsB-ZLG"
      },
      "source": [
        "Exercício Python 58: Melhore o jogo do DESAFIO 28 onde o computador vai “pensar” em um número entre 0 e 10. Só que agora o jogador vai tentar adivinhar até acertar, mostrando no final quantos palpites foram necessários para vencer.\n",
        "\n",
        "\n",
        "\n",
        "```\n",
        "# Isto está formatado como código\n",
        "```\n",
        "\n"
      ]
    },
    {
      "cell_type": "code",
      "execution_count": null,
      "metadata": {
        "colab": {
          "base_uri": "https://localhost:8080/"
        },
        "id": "AJ_cpC-F-Xhb",
        "outputId": "a9c5afa2-b91c-4939-ba89-1488c8b26278"
      },
      "outputs": [
        {
          "name": "stdout",
          "output_type": "stream",
          "text": [
            "Escolha um número de 0 a 10: 3\n",
            "O número é maior.\n",
            "Tente novamente: 4\n",
            "O número é maior.\n",
            "Tente novamente: 6\n",
            "O número é maior.\n",
            "Tente novamente: 8\n",
            "O número é maior.\n",
            "Tente novamente: 9\n",
            "O número sorteado foi 9. Você acertou após 5 jogada(s)!\n"
          ]
        }
      ],
      "source": [
        "from random import choice\n",
        "palpite = int(input('Escolha um número de 0 a 10: '))\n",
        "numeros = range(0,11)\n",
        "numero_sorteado = (choice(numeros))\n",
        "palpites = 1\n",
        "while palpite not in [numero_sorteado]:\n",
        "  if palpite < numero_sorteado:\n",
        "    print ('O número é maior.')\n",
        "  else:\n",
        "    print('O número é menor.')\n",
        "  palpite = int(input('Tente novamente: '))\n",
        "  palpites += 1\n",
        "\n",
        "print (f'O número sorteado foi {numero_sorteado}. Você acertou após {palpites} jogada(s)!')\n"
      ]
    },
    {
      "cell_type": "code",
      "execution_count": null,
      "metadata": {
        "colab": {
          "base_uri": "https://localhost:8080/"
        },
        "id": "MJEX5kNuCeSD",
        "outputId": "56033bf4-86da-4d2b-cc8a-1feba226a3b1"
      },
      "outputs": [
        {
          "name": "stdout",
          "output_type": "stream",
          "text": [
            "Sou eu computador. Acabei de pensar em um número.\n",
            "Será que você consegue adivinhar qual foi?\n",
            "Qual o seu palpite?10\n",
            "Menos... Tente outra vez.\n",
            "Qual o seu palpite?5\n",
            "Mais...Tente outra vez.\n",
            "Qual o seu palpite?6\n",
            "Mais...Tente outra vez.\n",
            "Qual o seu palpite?8\n",
            "Mais...Tente outra vez.\n",
            "Qual o seu palpite?9\n",
            "Acertou com 5 tentativas.\n"
          ]
        }
      ],
      "source": [
        "from random import randint\n",
        "computador = randint(0,10)\n",
        "print('Sou eu computador. Acabei de pensar em um número.')\n",
        "print('Será que você consegue adivinhar qual foi?')\n",
        "acertou = False\n",
        "palpites = 0\n",
        "\n",
        "while not acertou:\n",
        "  jogador = int(input('Qual o seu palpite? '))\n",
        "  palpites += 1\n",
        "  if jogador == computador:\n",
        "    acertou = True\n",
        "  else:\n",
        "    if jogador < computador:\n",
        "      print('Mais...Tente outra vez.')\n",
        "    elif jogador > computador:\n",
        "      print('Menos... Tente outra vez.')\n",
        "print (f'Acertou com {palpites} tentativas.')\n",
        "\n"
      ]
    },
    {
      "cell_type": "markdown",
      "metadata": {
        "id": "YQSyKWI6Qz5P"
      },
      "source": [
        "Exercício Python 059: Crie um programa que leia dois valores e mostre um menu na tela:\n",
        "\n",
        "[ 1 ] somar\n",
        "\n",
        "[ 2 ] multiplicar\n",
        "\n",
        "[ 3 ] maior\n",
        "\n",
        "[ 4 ] novos números\n",
        "\n",
        "[ 5 ] sair do programa\n",
        "\n",
        "Seu programa deverá realizar a operação solicitada em cada caso."
      ]
    },
    {
      "cell_type": "code",
      "execution_count": null,
      "metadata": {
        "colab": {
          "base_uri": "https://localhost:8080/"
        },
        "id": "Liw-1007QzCZ",
        "outputId": "9cc58c0f-7708-4a27-f461-c2d4a18d3a86"
      },
      "outputs": [
        {
          "output_type": "stream",
          "name": "stdout",
          "text": [
            "Digite um valor: 2\n",
            "Digite um valor: 3\n",
            "Escolha qual operação você quer realizar.\n",
            "[ 1 ] somar\n",
            "[ 2 ] multiplicar\n",
            "[ 3 ] maior\n",
            "[ 4 ] novos números\n",
            "[ 5 ] sair do programa  1\n",
            "2.0 + 3.0 = 5.0\n",
            "Escolha qual operação você quer realizar.\n",
            "[ 1 ] somar\n",
            "[ 2 ] multiplicar\n",
            "[ 3 ] maior\n",
            "[ 4 ] novos números\n",
            "[ 5 ] sair do programa  2\n",
            "2.0 x 3.0 = 6.0\n",
            "Escolha qual operação você quer realizar.\n",
            "[ 1 ] somar\n",
            "[ 2 ] multiplicar\n",
            "[ 3 ] maior\n",
            "[ 4 ] novos números\n",
            "[ 5 ] sair do programa  3\n",
            "3.0 é maior que 2.0.\n",
            "Escolha qual operação você quer realizar.\n",
            "[ 1 ] somar\n",
            "[ 2 ] multiplicar\n",
            "[ 3 ] maior\n",
            "[ 4 ] novos números\n",
            "[ 5 ] sair do programa  4\n",
            "Digite novos valores.\n",
            "Digite um valor: 1\n",
            "Digite um valor: 2\n",
            "[ 1 ] somar\n",
            "[ 2 ] multiplicar\n",
            "[ 3 ] maior\n",
            "[ 4 ] novos números\n",
            "[ 5 ] sair do programa  3\n",
            "Escolha qual operação você quer realizar.\n",
            "[ 1 ] somar\n",
            "[ 2 ] multiplicar\n",
            "[ 3 ] maior\n",
            "[ 4 ] novos números\n",
            "[ 5 ] sair do programa  5\n",
            "Fim do programa\n"
          ]
        }
      ],
      "source": [
        "valor_1 = float(input('Digite um valor: '))\n",
        "valor_2 = float(input('Digite um valor: '))\n",
        "print('Escolha qual operação você quer realizar.')\n",
        "operacao = int(input('[ 1 ] somar\\n[ 2 ] multiplicar\\n[ 3 ] maior\\n[ 4 ] novos números\\n[ 5 ] sair do programa  '))\n",
        "while operacao not in [5]:\n",
        "  if operacao == 1:\n",
        "    print(f'{valor_1} + {valor_2} = {valor_1+valor_2}')\n",
        "  elif operacao == 2:\n",
        "    print(f'{valor_1} x {valor_2} = {valor_1*valor_2}')\n",
        "  elif operacao == 3:\n",
        "    if valor_1 > valor_2:\n",
        "      print(f\"{valor_1} é maior que {valor_2}.\")\n",
        "    elif valor_2 > valor_1:\n",
        "      print(f\"{valor_2} é maior que {valor_1}.\")\n",
        "    else:\n",
        "      print(f\"{valor_2} é igual a {valor_1}.\")\n",
        "  elif operacao == 4:\n",
        "    print('Digite novos valores.')\n",
        "    valor_1 = float(input('Digite um valor: '))\n",
        "    valor_2 = float(input('Digite um valor: '))\n",
        "    operacao = int(input('[ 1 ] somar\\n[ 2 ] multiplicar\\n[ 3 ] maior\\n[ 4 ] novos números\\n[ 5 ] sair do programa  '))\n",
        "  elif operacao == 5:\n",
        "    print('Você saiu do programa.')\n",
        "  else:\n",
        "    print('Operação inválida.')\n",
        "  print('Escolha qual operação você quer realizar.')\n",
        "  operacao = int(input('[ 1 ] somar\\n[ 2 ] multiplicar\\n[ 3 ] maior\\n[ 4 ] novos números\\n[ 5 ] sair do programa  '))\n",
        "print('Fim do programa')\n",
        "\n",
        "\n"
      ]
    },
    {
      "cell_type": "markdown",
      "source": [
        "Exercício Python 060: Faça um programa que leia um número qualquer e mostre o seu fatorial. Exemplo:\n",
        "\n",
        "5! = 5 x 4 x 3 x 2 x 1 = 120"
      ],
      "metadata": {
        "id": "kO-XgZyGmyW6"
      }
    },
    {
      "cell_type": "code",
      "source": [
        "from math import factorial\n",
        "valor = int(input('Digite um número inteiro: '))\n",
        "c = valor\n",
        "f = factorial(valor)\n",
        "while c > 0:\n",
        "  print(f'{c}', end = '')\n",
        "  print(' x ' if c > 1 else ' = ', end = '')\n",
        "  c -= 1\n",
        "print(f)"
      ],
      "metadata": {
        "colab": {
          "base_uri": "https://localhost:8080/"
        },
        "id": "NhcUZELhm1KU",
        "outputId": "4a457503-a244-4a80-dfb9-0653be485bc0"
      },
      "execution_count": null,
      "outputs": [
        {
          "output_type": "stream",
          "name": "stdout",
          "text": [
            "Digite um número inteiro: 5\n",
            "5 x 4 x 3 x 2 x 1 = 120\n"
          ]
        }
      ]
    },
    {
      "cell_type": "markdown",
      "source": [
        "Exercício Python 61: Refaça o DESAFIO 51, lendo o primeiro termo e a razão de uma PA, mostrando os 10 primeiros termos da progressão usando a estrutura while.\n",
        "\n",
        "\n",
        "-\n",
        "*Exercício Python 51: Desenvolva um programa que leia o primeiro termo e a razão de uma PA. No final, mostre os 10 primeiros termos dessa progressão. *"
      ],
      "metadata": {
        "id": "AzdXwZWIwQ0d"
      }
    },
    {
      "cell_type": "code",
      "source": [
        "print ('PROGRESSÃO ARITIMÉTICA')\n",
        "\n",
        "termo = int(input('Primeiro Termo:'))\n",
        "razao = int(input('Razão:'))\n",
        "t = termo\n",
        "c = 1\n",
        "\n",
        "while c <= 10:\n",
        "  print(f'{t} - ', end=' ')\n",
        "  t += razao\n",
        "  c += 1"
      ],
      "metadata": {
        "colab": {
          "base_uri": "https://localhost:8080/"
        },
        "id": "OSaDWLJaw3LE",
        "outputId": "9899e677-3b1d-45e4-b60c-e41b7d074bfb"
      },
      "execution_count": null,
      "outputs": [
        {
          "output_type": "stream",
          "name": "stdout",
          "text": [
            "PROGRESSÃO ARITIMÉTICA\n",
            "Primeiro Termo:2\n",
            "Razão:2\n",
            "2 -  4 -  6 -  8 -  10 -  12 -  14 -  16 -  18 -  20 -  "
          ]
        }
      ]
    },
    {
      "cell_type": "markdown",
      "source": [],
      "metadata": {
        "id": "WoFqVklMzGCe"
      }
    },
    {
      "cell_type": "markdown",
      "source": [
        "Exercício Python 62: Melhore o DESAFIO 61, perguntando para o usuário se ele quer mostrar mais alguns termos. O programa encerrará quando ele disser que quer mostrar 0 termos."
      ],
      "metadata": {
        "id": "atMrzr0cvgOq"
      }
    },
    {
      "cell_type": "code",
      "source": [
        "print ('PROGRESSÃO ARITIMÉTICA')\n",
        "\n",
        "termo = int(input('Primeiro Termo:'))\n",
        "razao = int(input('Razão:'))\n",
        "t = termo\n",
        "c = 1\n",
        "total = 0\n",
        "mais_termos = 10\n",
        "while mais_termos != 0:\n",
        "  total = total + mais_termos\n",
        "  while c <= total:\n",
        "    print(f'{t} -> ', end=' ')\n",
        "    t += razao\n",
        "    c += 1\n",
        "  mais_termos = int(input('Quantos termos a mais você quer mostrar?'))\n",
        "print('FIM')\n"
      ],
      "metadata": {
        "colab": {
          "base_uri": "https://localhost:8080/"
        },
        "id": "j6tJ3EAnrfKm",
        "outputId": "707107ed-0f43-4715-f589-516c000e76d3"
      },
      "execution_count": null,
      "outputs": [
        {
          "output_type": "stream",
          "name": "stdout",
          "text": [
            "PROGRESSÃO ARITIMÉTICA\n",
            "Primeiro Termo:5\n",
            "Razão:2\n",
            "5 ->  7 ->  9 ->  11 ->  13 ->  15 ->  17 ->  19 ->  21 ->  23 ->  Quantos termos a mais você quer mostrar?5\n",
            "25 ->  27 ->  29 ->  31 ->  33 ->  Quantos termos a mais você quer mostrar?2\n",
            "35 ->  37 ->  Quantos termos a mais você quer mostrar?0\n",
            "FIM\n"
          ]
        }
      ]
    },
    {
      "cell_type": "markdown",
      "source": [
        "Exercício Python 63: Escreva um programa que leia um número N inteiro qualquer e mostre na tela os N primeiros elementos de uma Sequência de Fibonacci. Exemplo:\n",
        "\n",
        "0 – 1 – 1 – 2 – 3 – 5 – 8"
      ],
      "metadata": {
        "id": "IwSz-buArfkV"
      }
    },
    {
      "cell_type": "code",
      "source": [
        "\n",
        "n = int(input(\"Digite o número de elementos da sequência de Fibonacci: \")) #mostra o número que o usuário quer mostrar da sequência\n",
        "fibonacci = [0, 1]\n",
        "for i in range(2, n):\n",
        "    fibonacci.append(fibonacci[i - 1] + fibonacci[i - 2])\n",
        "print(\"Sequência de Fibonacci com os primeiros\", n, \"elementos:\")\n",
        "for num in fibonacci:\n",
        "    print(num, end=\" \")\n"
      ],
      "metadata": {
        "colab": {
          "base_uri": "https://localhost:8080/"
        },
        "id": "AAz-WDjnrlY4",
        "outputId": "57c91328-8a73-4db4-ffbc-e7a4313cc6c8"
      },
      "execution_count": null,
      "outputs": [
        {
          "output_type": "stream",
          "name": "stdout",
          "text": [
            "Digite o número de elementos da sequência de Fibonacci: 5\n",
            "Sequência de Fibonacci com os primeiros 5 elementos:\n",
            "0 1 1 2 3 "
          ]
        }
      ]
    },
    {
      "cell_type": "code",
      "source": [
        "n = int(input(\"Digite o número de elementos da sequência de Fibonacci: \"))\n",
        "\n",
        "fibonacci = [0, 1]  # Inicializando a sequência de Fibonacci com os dois primeiros elementos\n",
        "i = 2  # Contador para os próximos elementos da sequência\n",
        "\n",
        "# Gerando os próximos elementos da sequência de Fibonacci até alcançar n elementos\n",
        "while i < n:\n",
        "    next_fib = fibonacci[-1] + fibonacci[-2]  # Calculando o próximo número da sequência\n",
        "    fibonacci.append(next_fib)  # Adicionando o próximo número à sequência\n",
        "    i += 1  # Incrementando o contador\n",
        "\n",
        "# Mostrando os primeiros n elementos da sequência de Fibonacci\n",
        "print(\"Sequência de Fibonacci com os primeiros\", n, \"elementos:\")\n",
        "for num in fibonacci:\n",
        "    print(num, end=\" \")\n"
      ],
      "metadata": {
        "colab": {
          "base_uri": "https://localhost:8080/"
        },
        "id": "a5p_f_TIYtYw",
        "outputId": "634ae218-9c3a-44ba-c34b-e989287fb302"
      },
      "execution_count": null,
      "outputs": [
        {
          "output_type": "stream",
          "name": "stdout",
          "text": [
            "Digite o número de elementos da sequência de Fibonacci: 5\n",
            "Sequência de Fibonacci com os primeiros 5 elementos:\n",
            "0 1 1 2 3 "
          ]
        }
      ]
    },
    {
      "cell_type": "markdown",
      "source": [
        "Exercício Python 64: Crie um programa que leia vários números inteiros pelo teclado. O programa só vai parar quando o usuário digitar o valor 999, que é a condição de parada. No final, mostre quantos números foram digitados e qual foi a soma entre eles (desconsiderando o flag)."
      ],
      "metadata": {
        "id": "60WsaHmJTxZN"
      }
    },
    {
      "cell_type": "code",
      "source": [
        "# Inicializando variáveis\n",
        "soma = contador = 0\n",
        "\n",
        "# Loop para ler os números e somar\n",
        "while True:\n",
        "    num = int(input(\"Digite um número inteiro (999 para parar): \"))\n",
        "\n",
        "    # Verifica se o número é 999 para parar o loop\n",
        "    if num == 999:\n",
        "        break\n",
        "\n",
        "    soma += num  # Adiciona o número à soma\n",
        "    contador += 1  # Incrementa o contador de números digitados\n",
        "\n",
        "# Exibindo o resultado\n",
        "print(f\"Foram digitados {contador} números.\")\n",
        "print(f\"A soma dos números digitados é {soma}.\")\n"
      ],
      "metadata": {
        "id": "LmLaph62rq69"
      },
      "execution_count": null,
      "outputs": []
    },
    {
      "cell_type": "markdown",
      "source": [
        "Exercício Python 65: Crie um programa que leia vários números inteiros pelo teclado. No final da execução, mostre a média entre todos os valores e qual foi o maior e o menor valores lidos. O programa deve perguntar ao usuário se ele quer ou não continuar a digitar valores."
      ],
      "metadata": {
        "id": "2aa_21clrrVx"
      }
    },
    {
      "cell_type": "code",
      "source": [
        "  # Inicializando variáveis\n",
        "soma = contador = 0\n",
        "maior = menor = 0\n",
        "\n",
        "while True:\n",
        "    num = int(input(\"Digite um número inteiro: \"))\n",
        "\n",
        "    # Atualizando soma e contador\n",
        "    soma += num\n",
        "    contador += 1\n",
        "\n",
        "    # Atualizando maior e menor\n",
        "    if contador == 1:\n",
        "        maior = menor = num\n",
        "    else:\n",
        "        if num > maior:\n",
        "            maior = num\n",
        "        if num < menor:\n",
        "            menor = num\n",
        "\n",
        "    continuar = input(\"Deseja continuar? (S/N): \").strip().upper()\n",
        "    if continuar != 'S':\n",
        "        break\n",
        "\n",
        "# Calculando a média\n",
        "media = soma / contador\n",
        "\n",
        "# Exibindo os resultados\n",
        "print(f\"Média dos valores digitados: {media}\")\n",
        "print(f\"Maior valor digitado: {maior}\")\n",
        "print(f\"Menor valor digitado: {menor}\")\n"
      ],
      "metadata": {
        "id": "USEQ1E-Pr4dN"
      },
      "execution_count": null,
      "outputs": []
    },
    {
      "cell_type": "markdown",
      "source": [
        "Exercício Python 66: Crie um programa que leia números inteiros pelo teclado. O programa só vai parar quando o usuário digitar o valor 999, que é a condição de parada. No final, mostre quantos números foram digitados e qual foi a soma entre elas (desconsiderando o flag)."
      ],
      "metadata": {
        "id": "PT2y0Qyxd9BK"
      }
    },
    {
      "cell_type": "code",
      "source": [],
      "metadata": {
        "id": "8ZwWNNked9qn"
      },
      "execution_count": null,
      "outputs": []
    },
    {
      "cell_type": "markdown",
      "source": [],
      "metadata": {
        "id": "GcaIHFNrr43i"
      }
    },
    {
      "cell_type": "markdown",
      "source": [
        "Exercício Python 67: Faça um programa que mostre a tabuada de vários números, um de cada vez, para cada valor digitado pelo usuário. O programa será interrompido quando o número solicitado for negativo."
      ],
      "metadata": {
        "id": "UPSrvLLEd-Au"
      }
    },
    {
      "cell_type": "code",
      "source": [],
      "metadata": {
        "id": "60tyyoDBeMs6"
      },
      "execution_count": null,
      "outputs": []
    },
    {
      "cell_type": "markdown",
      "source": [
        "Exercício Python 68: Faça um programa que jogue par ou ímpar com o computador. O jogo só será interrompido quando o jogador perder, mostrando o total de vitórias consecutivas que ele conquistou no final do jogo."
      ],
      "metadata": {
        "id": "k_HaRzxYeNMV"
      }
    },
    {
      "cell_type": "code",
      "source": [],
      "metadata": {
        "id": "kv78td9LeQ0S"
      },
      "execution_count": null,
      "outputs": []
    },
    {
      "cell_type": "markdown",
      "source": [
        "Exercício Python 69: Crie um programa que leia a idade e o sexo de várias pessoas. A cada pessoa cadastrada, o programa deverá perguntar se o usuário quer ou não continuar. No final, mostre:\n",
        "\n",
        "A) quantas pessoas tem mais de 18 anos.\n",
        "\n",
        "B) quantos homens foram cadastrados.\n",
        "\n",
        "C) quantas mulheres tem menos de 20 anos."
      ],
      "metadata": {
        "id": "DrFK-J8jeRU9"
      }
    },
    {
      "cell_type": "code",
      "source": [
        "from time import sleep\n",
        "\n",
        "print('CADASTRO DE USUÁRIOS')\n",
        "print('*'*21)\n",
        "print('INSTRUÇÕES\\n Idade: Digite um número inteiro. \\n Sexo: Feminino (F), Masculino (M), Outro (O).\\n')\n",
        "print('*'*21)\n",
        "dados_masculinos = dados_femininos = dados_idade = dados_outro = 0\n",
        "\n",
        "while True:\n",
        "  idade = int(input('Idade: '))\n",
        "  sexo = ' '\n",
        "  while sexo not in 'FMO':\n",
        "    sexo = input('Sexo: (F/M/O) ').strip().upper()[0]\n",
        "  if idade > 18:\n",
        "    dados_idade +=1\n",
        "  if sexo == 'M':\n",
        "    dados_masculinos +=1\n",
        "  if sexo == 'F' and idade < 20:\n",
        "    dados_femininos += 1\n",
        "  if sexo =='O':\n",
        "    dados_outro += 1\n",
        "  resposta = ' '\n",
        "  while resposta not in 'SN':\n",
        "    resposta = input('Quer continuar? S/N ').strip().upper()[0]\n",
        "  if resposta == 'N':\n",
        "    break\n",
        "sleep(1)\n",
        "print('PROCESSANDO... ', end=' ')\n",
        "sleep(3)\n",
        "print('Dados Cadastrados com Sucesso.'.upper())\n",
        "print(f'Total de pessoas com mais de 18 anos: {dados_idade}.')\n",
        "print(f'Total de homens cadastrados: {dados_masculinos}.')\n",
        "print (f'Total de mulheres com menos de 20 anos: {dados_femininos }.')\n",
        "print (f'Total de pessoas identificadas com gênero neutro. {dados_outro }.')"
      ],
      "metadata": {
        "colab": {
          "base_uri": "https://localhost:8080/"
        },
        "id": "hZExGaLWea_Z",
        "outputId": "7c9d4e03-bbb5-4c43-9e65-f6e0b91b078f"
      },
      "execution_count": null,
      "outputs": [
        {
          "output_type": "stream",
          "name": "stdout",
          "text": [
            "CADASTRO DE USUÁRIOS\n",
            "*********************\n",
            "INSTRUÇÕES\n",
            " Idade: Digite um número inteiro. \n",
            " Sexo: Feminino (F), Masculino (M), Outro (O).\n",
            "\n",
            "*********************\n",
            "Idade: 22\n",
            "Sexo: (F/M/O) f\n",
            "Quer continuar? S/N s\n",
            "Idade: 17\n",
            "Sexo: (F/M/O) m\n",
            "Quer continuar? S/N s\n",
            "Idade: 19\n",
            "Sexo: (F/M/O) o\n",
            "Quer continuar? S/N s\n",
            "Idade: 14\n",
            "Sexo: (F/M/O) f\n",
            "Quer continuar? S/N s\n",
            "Idade: 77\n",
            "Sexo: (F/M/O) m\n",
            "Quer continuar? S/N s\n",
            "Idade: 55\n",
            "Sexo: (F/M/O) o\n",
            "Quer continuar? S/N n\n",
            "PROCESSANDO...  DADOS CADASTRADOS COM SUCESSO.\n",
            "Total de pessoas com mais de 18 anos: 4\n",
            "Total de homens cadastrados: 2\n",
            "Total de mulheres com menos de 20 anos: 1 mulheres tem menos de 20 anos.\n",
            "Total de pessoas identificadas com gênero neutro. 2.\n"
          ]
        }
      ]
    },
    {
      "cell_type": "markdown",
      "source": [
        "Exercício Python 70: Crie um programa que leia o nome e o preço de vários produtos. O programa deverá perguntar se o usuário vai continuar ou não. No final, mostre:\n",
        "\n",
        "A) qual é o total gasto na compra.\n",
        "\n",
        "B) quantos produtos custam mais de R$1000.\n",
        "\n",
        "C) qual é o nome do produto mais barato."
      ],
      "metadata": {
        "id": "9o0TbmeJpWr2"
      }
    },
    {
      "cell_type": "markdown",
      "source": [],
      "metadata": {
        "id": "7r_7Bil3eaeh"
      }
    },
    {
      "cell_type": "code",
      "source": [
        "total = produto_maior_1000 = produto_barato = c = 0\n",
        "nome_barato = ' '\n",
        "\n",
        "while True:\n",
        "  nome_produto = input('Digite o nome do produto: ').strip().upper()\n",
        "  preco_produto = float(input('Digite o preço do produto: R$ '))\n",
        "  total += preco_produto\n",
        "  c +=1\n",
        "\n",
        "  if preco_produto > 1000:\n",
        "    produto_maior_1000 += 1\n",
        "\n",
        "  if c == 1:\n",
        "    produto_barato = preco_produto\n",
        "    nome_barato = nome_produto\n",
        "\n",
        "  else:\n",
        "    if preco_produto < produto_barato:\n",
        "      produto_barato = preco_produto\n",
        "      nome_barato = nome_produto\n",
        "\n",
        "  loop = ' '\n",
        "  while loop not in 'SN':\n",
        "    loop = input('Vai continuar? [S/N] ').strip().upper()[0]\n",
        "  if loop == 'N':\n",
        "    break\n",
        "print(total)\n",
        "print(produto_maior_1000)\n",
        "print(nome_barato)\n",
        "print('FIM.')\n",
        "\n",
        "# A) qual é o total gasto na compra.\n",
        "# B) quantos produtos custam mais de R$1000.\n",
        "# C) qual é o nome do produto mais barato."
      ],
      "metadata": {
        "colab": {
          "base_uri": "https://localhost:8080/"
        },
        "id": "GFXb2QHNpeKr",
        "outputId": "51a1cc35-f978-4995-d09f-363421511622"
      },
      "execution_count": null,
      "outputs": [
        {
          "output_type": "stream",
          "name": "stdout",
          "text": [
            "Digite o nome do produto: Computador\n",
            "Digite o preço do produto: R$ 5000\n",
            "Vai continuar? [S/N] s\n",
            "Digite o nome do produto: Leite\n",
            "Digite o preço do produto: R$ 2\n",
            "Vai continuar? [S/N] s\n",
            "Digite o nome do produto: Carro \n",
            "Digite o preço do produto: R$ 50000\n",
            "Vai continuar? [S/N] n\n",
            "55002.0\n",
            "2\n",
            "LEITE\n",
            "FIM.\n"
          ]
        }
      ]
    },
    {
      "cell_type": "markdown",
      "source": [
        "Reforço para a verificação do menor número."
      ],
      "metadata": {
        "id": "1iKd4J_U5jHk"
      }
    },
    {
      "cell_type": "code",
      "source": [
        "#checar o produto mais barato\n",
        "produto_barato = c = 0\n",
        "\n",
        "while c <5:\n",
        "  preco_produto = float(input('Digite o preço do produto: R$ '))\n",
        "  c +=1\n",
        "\n",
        "  if c == 1:\n",
        "    produto_barato = preco_produto\n",
        "\n",
        "  else:\n",
        "    if preco_produto < produto_barato:\n",
        "      produto_barato = preco_produto\n",
        "\n",
        "print(f'R$ {produto_barato}')\n",
        "print('FIM.')\n",
        "\n"
      ],
      "metadata": {
        "colab": {
          "base_uri": "https://localhost:8080/"
        },
        "id": "aC3FBcsx5i1M",
        "outputId": "26616a47-72af-4c0b-b71b-3886d30c3d4c"
      },
      "execution_count": null,
      "outputs": [
        {
          "output_type": "stream",
          "name": "stdout",
          "text": [
            "Digite o preço do produto: R$ 4\n",
            "Digite o preço do produto: R$ 5\n",
            "Digite o preço do produto: R$ 2\n",
            "Digite o preço do produto: R$ 7\n",
            "Digite o preço do produto: R$ 4\n",
            "R$ 2.0\n",
            "FIM.\n"
          ]
        }
      ]
    },
    {
      "cell_type": "markdown",
      "source": [
        "Exercício Python 071: Crie um programa que simule o funcionamento de um caixa eletrônico. No início, pergunte ao usuário qual será o valor a ser sacado (número inteiro) e o programa vai informar quantas cédulas de cada valor serão entregues. OBS:\n",
        "\n",
        "considere que o caixa possui cédulas de R$50, R$20, R$10 e R$1."
      ],
      "metadata": {
        "id": "5f2yr9-JA0Q6"
      }
    },
    {
      "cell_type": "code",
      "source": [
        "saque = int(input('Qual o valor que deseja sacar? R$ '))\n",
        "\n"
      ],
      "metadata": {
        "id": "-IkGtv3mA2bR"
      },
      "execution_count": null,
      "outputs": []
    },
    {
      "cell_type": "code",
      "source": [
        "print('=' * 30)\n",
        "print('{:^30}'.format('BANCO CEV'))\n",
        "print('=' * 30)\n",
        "\n",
        "valor_saque = int(input('Qual valor você deseja sacar? R$ '))\n",
        "\n",
        "total = valor_saque\n",
        "cedula = 50\n",
        "total_cedulas = 0\n",
        "\n",
        "while True:\n",
        "    if total >= cedula:\n",
        "        total -= cedula\n",
        "        total_cedulas += 1\n",
        "    else:\n",
        "        if total_cedulas > 0:\n",
        "            print(f'Total de {total_cedulas} cédulas de R$ {cedula}')\n",
        "        if cedula == 50:\n",
        "            cedula = 20\n",
        "        elif cedula == 20:\n",
        "            cedula = 10\n",
        "        elif cedula == 10:\n",
        "            cedula = 1\n",
        "        total_cedulas = 0\n",
        "        if total == 0:\n",
        "            break\n",
        "\n",
        "print('=' * 30)\n",
        "print('Volte sempre ao BANCO CEV! Tenha um bom dia!')\n"
      ],
      "metadata": {
        "colab": {
          "base_uri": "https://localhost:8080/"
        },
        "id": "Qp39PxMtBuVE",
        "outputId": "3580ed9a-44d9-4e84-8018-91205cac3b21"
      },
      "execution_count": null,
      "outputs": [
        {
          "output_type": "stream",
          "name": "stdout",
          "text": [
            "==============================\n",
            "          BANCO CEV           \n",
            "==============================\n",
            "Qual valor você deseja sacar? R$ 100\n",
            "Total de 2 cédulas de R$ 50\n",
            "==============================\n",
            "Volte sempre ao BANCO CEV! Tenha um bom dia!\n"
          ]
        }
      ]
    },
    {
      "cell_type": "markdown",
      "source": [
        "Exercício Python 72: Crie um programa que tenha uma dupla totalmente preenchida com uma contagem por extenso, de zero até vinte. Seu programa deverá ler um número pelo teclado (entre 0 e 20) e mostrá-lo por extenso."
      ],
      "metadata": {
        "id": "RMLK2kRAIVcd"
      }
    },
    {
      "cell_type": "markdown",
      "source": [],
      "metadata": {
        "id": "2aQn3oV2BtkH"
      }
    },
    {
      "cell_type": "code",
      "source": [
        "extenso = ('zero',' um', 'dois',' três', 'quatro', 'cinco',\n",
        "           'seis',' sete',' oito', 'nove', 'dez', 'onze',\n",
        "           'doze', 'treze', 'quatorze', 'quinze', 'dezesseis',\n",
        "           'dezesete', 'dezoito', 'dezenove', 'vinte')\n",
        "\n",
        "while True:\n",
        "  num = int(input('Digite um número inteiro de 1 a 20: '))\n",
        "  if 0 <= num <= 20:\n",
        "    break\n",
        "  print('Tente novamente.', end=' ')\n",
        "print(f'Você digitou o número {extenso[num]}')"
      ],
      "metadata": {
        "colab": {
          "base_uri": "https://localhost:8080/"
        },
        "id": "3U7mMpPyvFgy",
        "outputId": "a0147210-c27e-4356-9480-e610e8cbb304"
      },
      "execution_count": null,
      "outputs": [
        {
          "output_type": "stream",
          "name": "stdout",
          "text": [
            "Digite um número inteiro de 1 a 20: 44\n",
            "Tente novamente. Digite um número inteiro de 1 a 20: 44\n",
            "Tente novamente. Digite um número inteiro de 1 a 20: 33\n",
            "Tente novamente. Digite um número inteiro de 1 a 20: 23\n",
            "Tente novamente. Digite um número inteiro de 1 a 20: 12\n",
            "Você digitou o número doze\n"
          ]
        }
      ]
    },
    {
      "cell_type": "markdown",
      "source": [
        "Exercício Python 73: Crie uma tupla preenchida com os 20 primeiros colocados da Tabela do Campeonato Brasileiro de Futebol, na ordem de colocação. Depois mostre:\n",
        "\n",
        "a) Os 5 primeiros times.\n",
        "\n",
        "b) Os últimos 4 colocados.\n",
        "\n",
        "c) Times em ordem alfabética.\n",
        "\n",
        "d) Em que posição está o time da Fluminense."
      ],
      "metadata": {
        "id": "-h5INx_K108E"
      }
    },
    {
      "cell_type": "code",
      "source": [
        "times =  ('Palmeiras', 'Grêmio', 'Atlético-MG', 'Flamengo', 'Botafogo',\n",
        "       'Bragantino', 'Fluminense', 'Athletico-PR', 'Internacional',\n",
        "       'Fortaleza', 'São Paulo', 'Cuiabá', 'Corinthians', 'Cruzeiro',\n",
        "       'Vasco', 'Bahia', 'Santos', 'Goiás', 'Coritiba', 'América-MG')\n",
        "\n",
        "times_ordenados = sorted(times)\n",
        "posicao_flu = times.index('Fluminense')\n",
        "\n",
        "print('@'*30)\n",
        "print('TABELA DO BRASILEIRÃO'.center(30))\n",
        "print('@'*30)\n",
        "\n",
        "\n",
        "print('\\nLISTA DE TIMES')\n",
        "print('=*'*15)\n",
        "for t in times:\n",
        "  print(t)\n",
        "\n",
        "print('\\nTOP 5')\n",
        "print('=*'*15)\n",
        "for t in times[0:5]:\n",
        "  print(t)\n",
        "\n",
        "print('\\nNA LANTERNA')\n",
        "print('=*'*15)\n",
        "for l in times[-4:]:\n",
        "  print(l)\n",
        "\n",
        "print('\\nORDEN ALFABÉTICA')\n",
        "print('=*'*15)\n",
        "for t_o in times_ordenados:\n",
        "  print(t_o)\n",
        "\n",
        "print('\\nPOSIÇÃO FLUMINENSE')\n",
        "print('=*'*15)\n",
        "print(f'O Fluminense está na {posicao_flu}ª posição.')\n"
      ],
      "metadata": {
        "colab": {
          "base_uri": "https://localhost:8080/"
        },
        "id": "ka5mqu0D2Ji-",
        "outputId": "ab5bd650-cd19-4307-fb4d-efbe0a9dde4f"
      },
      "execution_count": null,
      "outputs": [
        {
          "output_type": "stream",
          "name": "stdout",
          "text": [
            "@@@@@@@@@@@@@@@@@@@@@@@@@@@@@@\n",
            "    TABELA DO BRASILEIRÃO     \n",
            "@@@@@@@@@@@@@@@@@@@@@@@@@@@@@@\n",
            "\n",
            "LISTA DE TIMES\n",
            "=*=*=*=*=*=*=*=*=*=*=*=*=*=*=*\n",
            "Palmeiras\n",
            "Grêmio\n",
            "Atlético-MG\n",
            "Flamengo\n",
            "Botafogo\n",
            "Bragantino\n",
            "Fluminense\n",
            "Athletico-PR\n",
            "Internacional\n",
            "Fortaleza\n",
            "São Paulo\n",
            "Cuiabá\n",
            "Corinthians\n",
            "Cruzeiro\n",
            "Vasco\n",
            "Bahia\n",
            "Santos\n",
            "Goiás\n",
            "Coritiba\n",
            "América-MG\n",
            "\n",
            "TOP 5\n",
            "=*=*=*=*=*=*=*=*=*=*=*=*=*=*=*\n",
            "Palmeiras\n",
            "Grêmio\n",
            "Atlético-MG\n",
            "Flamengo\n",
            "Botafogo\n",
            "\n",
            "NA LANTERNA\n",
            "Santos\n",
            "Goiás\n",
            "Coritiba\n",
            "América-MG\n",
            "\n",
            "ORDEN ALFABÉTICA\n",
            "América-MG\n",
            "Athletico-PR\n",
            "Atlético-MG\n",
            "Bahia\n",
            "Botafogo\n",
            "Bragantino\n",
            "Corinthians\n",
            "Coritiba\n",
            "Cruzeiro\n",
            "Cuiabá\n",
            "Flamengo\n",
            "Fluminense\n",
            "Fortaleza\n",
            "Goiás\n",
            "Grêmio\n",
            "Internacional\n",
            "Palmeiras\n",
            "Santos\n",
            "São Paulo\n",
            "Vasco\n",
            "\n",
            "POSIÇÃO FLUMINENSE\n",
            "O Fluminense está na 6ª posição.\n"
          ]
        }
      ]
    },
    {
      "cell_type": "markdown",
      "source": [
        "Exercício Python 074: Crie um programa que vai gerar cinco números aleatórios e colocar em uma tupla. Depois disso, mostre a listagem de números gerados e também indique o menor e o maior valor que estão na tupla."
      ],
      "metadata": {
        "id": "V4Lky0xk8ZhB"
      }
    },
    {
      "cell_type": "code",
      "source": [
        "from random import randint\n",
        "num_aleatorios = (randint(1,100), randint(1,100), randint(1,100), randint(1,100), randint(1,100))\n",
        "print('Os números sorteados foram: ')\n",
        "for n in num_aleatorios:\n",
        "    print(n, end=' ')\n",
        "print(f'\\nO maior número foi o {max(num_aleatorios)}')\n",
        "print(f'O menor número foi o {min(num_aleatorios)}')\n"
      ],
      "metadata": {
        "colab": {
          "base_uri": "https://localhost:8080/"
        },
        "id": "lDYJMXko8abB",
        "outputId": "20708a37-9b38-4e76-8cbb-6b93354c83c8"
      },
      "execution_count": null,
      "outputs": [
        {
          "output_type": "stream",
          "name": "stdout",
          "text": [
            "Os números sorteados foram: \n",
            "64 15 42 79 34 \n",
            "O maior número foi o 79\n",
            "O menor número foi o 15\n"
          ]
        }
      ]
    },
    {
      "cell_type": "markdown",
      "source": [
        "Exercício Python 075: Desenvolva um programa que leia quatro valores pelo teclado e guarde-os em uma tupla. No final, mostre:\n",
        "\n",
        "A) Quantas vezes apareceu o valor 9.\n",
        "\n",
        "B) Em que posição foi digitado o primeiro valor 3.\n",
        "\n",
        "C) Quais foram os números pares."
      ],
      "metadata": {
        "id": "vwiGFKJ1D9N3"
      }
    },
    {
      "cell_type": "code",
      "source": [
        "# Solicitar ao usuário que insira 4 números inteiros\n",
        "numeros = tuple(int(input(f\"Digite um número inteiro: \")) for i in range(4))\n",
        "\n",
        "print(\"Os números digitados foram:\", numeros)\n",
        "\n",
        "print(f'O número 9 apareceu {numeros.count(9)} vezes.')\n",
        "\n",
        "if 3 in numeros:\n",
        "  print(f'O número 3 aparece na posição de índece {numeros.index(3)+1}')\n",
        "else:\n",
        "  print('O valor 3 não foi digitado.')\n",
        "\n",
        "print('O valores pares são: ', end='')\n",
        "for n in numeros:\n",
        "  if n % 2 ==0:\n",
        "    print(n, end=' ')"
      ],
      "metadata": {
        "colab": {
          "base_uri": "https://localhost:8080/"
        },
        "id": "xCtWmmh4D96Z",
        "outputId": "3b979ac6-6479-432f-8aea-26cbbe9e17dc"
      },
      "execution_count": null,
      "outputs": [
        {
          "output_type": "stream",
          "name": "stdout",
          "text": [
            "Digite um número inteiro: 2\n",
            "Digite um número inteiro: 3\n",
            "Digite um número inteiro: 4\n",
            "Digite um número inteiro: 5\n",
            "Os números digitados foram: (2, 3, 4, 5)\n",
            "O número 9 apareceu 0 vezes.\n",
            "O número 3 aparece na posição de índece 2\n",
            "O valores pares são: 2, 4, "
          ]
        }
      ]
    },
    {
      "cell_type": "markdown",
      "source": [
        "Exercício Python 076: Crie um programa que tenha uma tupla única com nomes de produtos e seus respectivos preços, na sequência. No final, mostre uma listagem de preços, organizando os dados em forma tabular."
      ],
      "metadata": {
        "id": "iissLc_BIhA3"
      }
    },
    {
      "cell_type": "code",
      "source": [
        "# Tupla de produtos e preços\n",
        "produtos_precos = (\n",
        "    (\"Arroz\", 10.99),\n",
        "    (\"Feijão\", 6.49),\n",
        "    (\"Macarrão\", 3.99),\n",
        "    (\"Café\", 8.99),\n",
        "    (\"Leite\", 4.59)\n",
        ")\n",
        "\n",
        "# Imprimir cabeçalho da tabela\n",
        "print(\"=\" * 30)\n",
        "print(\"{:<15} {:>10}\".format(\"Produto\", \"Preço\"))\n",
        "print(\"=\" * 30)\n",
        "\n",
        "# Imprimir os produtos e preços em forma tabular\n",
        "for produto, preco in produtos_precos:\n",
        "    print(\"{:<15} R${:>8.2f}\".format(produto, preco))\n",
        "\n",
        "# Imprimir linha final da tabela\n",
        "print(\"=\" * 30)\n"
      ],
      "metadata": {
        "colab": {
          "base_uri": "https://localhost:8080/"
        },
        "id": "h9qhIMOfItH-",
        "outputId": "a4ac7330-29d1-429e-fb42-c7d57d86303b"
      },
      "execution_count": null,
      "outputs": [
        {
          "output_type": "stream",
          "name": "stdout",
          "text": [
            "==============================\n",
            "Produto              Preço\n",
            "==============================\n",
            "Arroz           R$   10.99\n",
            "Feijão          R$    6.49\n",
            "Macarrão        R$    3.99\n",
            "Café            R$    8.99\n",
            "Leite           R$    4.59\n",
            "==============================\n"
          ]
        }
      ]
    },
    {
      "cell_type": "markdown",
      "source": [],
      "metadata": {
        "id": "VYX_Mv4ED9CT"
      }
    },
    {
      "cell_type": "markdown",
      "source": [
        "Exercício Python 077: Crie um programa que tenha uma tupla com várias palavras (não usar acentos). Depois disso, você deve mostrar, para cada palavra, quais são as suas vogais."
      ],
      "metadata": {
        "id": "j5-iDobyLhWA"
      }
    },
    {
      "cell_type": "code",
      "source": [
        "palavras = ('aprender', 'trabalhar', 'programar', 'curso', 'python', 'online', 'trabalho', 'intuitivo')\n",
        "\n",
        "for p in palavras:\n",
        "  print(f'\\nPara a paralva {p.upper()}, temos as vogais: ', end='')\n",
        "  for vogal in p:\n",
        "    if vogal in 'aeiou':\n",
        "      print(vogal, end=' ')"
      ],
      "metadata": {
        "colab": {
          "base_uri": "https://localhost:8080/"
        },
        "id": "QIiXhVFcLiDm",
        "outputId": "a645bbf6-eeb4-476f-adac-7ba9fa817df4"
      },
      "execution_count": null,
      "outputs": [
        {
          "output_type": "stream",
          "name": "stdout",
          "text": [
            "\n",
            "Para a paralva APRENDER, temos as vogais: a e e \n",
            "Para a paralva TRABALHAR, temos as vogais: a a a \n",
            "Para a paralva PROGRAMAR, temos as vogais: o a a \n",
            "Para a paralva CURSO, temos as vogais: u o \n",
            "Para a paralva PYTHON, temos as vogais: o \n",
            "Para a paralva ONLINE, temos as vogais: o i e \n",
            "Para a paralva TRABALHO, temos as vogais: a a o \n",
            "Para a paralva INTUITIVO, temos as vogais: i u i i o "
          ]
        }
      ]
    },
    {
      "cell_type": "markdown",
      "source": [
        "Esses são métodos usados em listas em Python para adicionar, ordenar, inserir e remover elementos. Aqui está uma explicação de cada um deles:\n",
        "\n",
        "1. **.append():**\n",
        "   - O método `.append()` é usado para adicionar um elemento ao final de uma lista.\n",
        "   - Sintaxe: `lista.append(elemento)`\n",
        "   - Exemplo:\n",
        "     ```python\n",
        "     lista = [1, 2, 3]\n",
        "     lista.append(4)\n",
        "     print(lista)  # Saída: [1, 2, 3, 4]\n",
        "     ```\n",
        "\n",
        "2. **.sort():**\n",
        "   - O método `.sort()` é usado para ordenar os elementos de uma lista em ordem crescente ou alfabética.\n",
        "   - Para ordenar em ordem decrescente, você pode usar o argumento `reverse=True`.\n",
        "   - Sintaxe: `lista.sort(reverse=False)`\n",
        "   - Exemplo:\n",
        "     ```python\n",
        "     lista = [3, 1, 4, 2]\n",
        "     lista.sort()\n",
        "     print(lista)  # Saída: [1, 2, 3, 4]\n",
        "     ```\n",
        "\n",
        "3. **.insert():**\n",
        "   - O método `.insert()` é usado para inserir um elemento em uma posição específica da lista.\n",
        "   - Sintaxe: `lista.insert(posição, elemento)`\n",
        "   - Exemplo:\n",
        "     ```python\n",
        "     lista = [1, 2, 3]\n",
        "     lista.insert(1, 4)\n",
        "     print(lista)  # Saída: [1, 4, 2, 3]\n",
        "     ```\n",
        "\n",
        "4. **.pop():**\n",
        "   - O método `.pop()` é usado para remover e retornar o último elemento de uma lista. Também pode ser usado para remover um elemento em uma posição específica.\n",
        "   - Sintaxe: `lista.pop([posição])`\n",
        "   - Exemplo:\n",
        "     ```python\n",
        "     lista = [1, 2, 3]\n",
        "     elemento = lista.pop()\n",
        "     print(elemento)  # Saída: 3\n",
        "     print(lista)  # Saída: [1, 2]\n",
        "     ```\n",
        "   - Se uma posição específica for fornecida, `.pop()` removerá e retornará o elemento nessa posição.\n",
        "\n",
        "Esses são métodos muito úteis para manipular listas em Python, permitindo adicionar, ordenar, inserir e remover elementos de forma eficiente."
      ],
      "metadata": {
        "id": "20e29A_xLkjz"
      }
    },
    {
      "cell_type": "markdown",
      "source": [
        "Exercício Python 078: Faça um programa que leia 5 valores numéricos e guarde-os em uma lista. No final, mostre qual foi o maior e o menor valor digitado e as suas respectivas posições na lista."
      ],
      "metadata": {
        "id": "krgeYAl7MHUr"
      }
    },
    {
      "cell_type": "code",
      "source": [
        "# Cria uma lista vazia para armazenar os valores\n",
        "valores = []\n",
        "\n",
        "# Lê os 5 valores numéricos\n",
        "for i in range(5):\n",
        "    valor = float(input(f'Digite o {i+1}º valor: '))\n",
        "    valores.append(valor)\n",
        "\n",
        "# Encontra o maior e o menor valor na lista, juntamente com suas posições\n",
        "maior_valor = max(valores)\n",
        "menor_valor = min(valores)\n",
        "posicao_maior = valores.index(maior_valor) + 1\n",
        "posicao_menor = valores.index(menor_valor) + 1\n",
        "\n",
        "# Exibe os resultados\n",
        "print(f'O maior valor digitado foi {maior_valor} na posição {posicao_maior}')\n",
        "print(f'O menor valor digitado foi {menor_valor} na posição {posicao_menor}')\n"
      ],
      "metadata": {
        "colab": {
          "base_uri": "https://localhost:8080/"
        },
        "id": "tdz4WmsaMFyj",
        "outputId": "67607cea-5ffc-4acd-9bcb-31501af30455"
      },
      "execution_count": null,
      "outputs": [
        {
          "output_type": "stream",
          "name": "stdout",
          "text": [
            "Digite o 1º valor: 2\n",
            "Digite o 2º valor: 2\n",
            "Digite o 3º valor: 1\n",
            "Digite o 4º valor: 3\n",
            "Digite o 5º valor: 5\n",
            "O maior valor digitado foi 5.0 na posição 5\n",
            "O menor valor digitado foi 1.0 na posição 3\n"
          ]
        }
      ]
    },
    {
      "cell_type": "code",
      "source": [
        "#colocar valores em uma lista\n",
        "lista = []\n",
        "\n",
        "for d in range(5):\n",
        "  items = int(input('Digite um valor: '))\n",
        "  lista.append(items)\n",
        "print(lista)\n"
      ],
      "metadata": {
        "colab": {
          "base_uri": "https://localhost:8080/"
        },
        "id": "Rnw_nuoBOnFl",
        "outputId": "abfbb3fc-a8f4-4af0-9279-26a6d71d8725"
      },
      "execution_count": null,
      "outputs": [
        {
          "output_type": "stream",
          "name": "stdout",
          "text": [
            "Digite um valor: 1\n",
            "Digite um valor: 2\n",
            "Digite um valor: 3\n",
            "Digite um valor: 4\n",
            "Digite um valor: 5\n",
            "[1, 2, 3, 4, 5]\n"
          ]
        }
      ]
    },
    {
      "cell_type": "code",
      "source": [
        "lista_nomes = []\n",
        "\n",
        "for d in range(5):\n",
        "  nomes = input('Digite um nome: ')\n",
        "  lista_nomes.append(nomes)\n",
        "\n",
        "lista_nomes.sort()\n",
        "\n",
        "print(lista_nomes)"
      ],
      "metadata": {
        "colab": {
          "base_uri": "https://localhost:8080/"
        },
        "id": "vWIzVhVbPvcl",
        "outputId": "54947e0d-4ce0-4187-9ae6-f949abf3e659"
      },
      "execution_count": null,
      "outputs": [
        {
          "output_type": "stream",
          "name": "stdout",
          "text": [
            "Digite um nome: Clara\n",
            "Digite um nome: Gabriel\n",
            "Digite um nome: Raquel\n",
            "Digite um nome: Maria\n",
            "Digite um nome: Sarah\n",
            "['Clara', 'Gabriel', 'Maria', 'Raquel', 'Sarah']\n"
          ]
        }
      ]
    },
    {
      "cell_type": "code",
      "source": [
        "lista_numeros = []\n",
        "\n",
        "for d in range(5):\n",
        "  lista = int(input('Digite um número: '))\n",
        "  lista_numeros.append(lista)\n",
        "\n",
        "lista_numeros.sort()\n",
        "\n",
        "print(f'O menor item da lista é {lista_numeros[0]}')\n",
        "print(f'O maior item da lista é {lista_numeros[-1]}')"
      ],
      "metadata": {
        "colab": {
          "base_uri": "https://localhost:8080/"
        },
        "id": "OMqfWa7aQiGG",
        "outputId": "377423be-0f56-4df8-c331-856c0672dfe7"
      },
      "execution_count": null,
      "outputs": [
        {
          "output_type": "stream",
          "name": "stdout",
          "text": [
            "Digite um número: 3\n",
            "Digite um número: 4\n",
            "Digite um número: 5\n",
            "Digite um número: 2\n",
            "Digite um número: 7\n",
            "O menor item da lista é 2\n",
            "O maior item da lista é 7\n"
          ]
        }
      ]
    },
    {
      "cell_type": "markdown",
      "source": [
        "Exercício Python 079: Crie um programa onde o usuário possa digitar vários valores numéricos e cadastre-os em uma lista. Caso o número já exista lá dentro, ele não será adicionado. No final, serão exibidos todos os valores únicos digitados, em ordem crescente.\n",
        "\n"
      ],
      "metadata": {
        "id": "CwyCUb2GRaAB"
      }
    },
    {
      "cell_type": "code",
      "source": [],
      "metadata": {
        "id": "7hBrghH4Rbb-"
      },
      "execution_count": null,
      "outputs": []
    },
    {
      "cell_type": "code",
      "source": [],
      "metadata": {
        "id": "98QNDy6GqPIt"
      },
      "execution_count": null,
      "outputs": []
    },
    {
      "cell_type": "markdown",
      "source": [
        "Exercício Python 080: Crie um programa onde o usuário possa digitar cinco valores numéricos e cadastre-os em uma lista, já na posição correta de inserção (sem usar o sort()). No final, mostre a lista ordenada na tela."
      ],
      "metadata": {
        "id": "7bxwGjEtqOzn"
      }
    },
    {
      "cell_type": "code",
      "source": [],
      "metadata": {
        "id": "GakKyseyqSA0"
      },
      "execution_count": null,
      "outputs": []
    },
    {
      "cell_type": "markdown",
      "source": [
        "Exercício Python 081: Crie um programa que vai ler vários números e colocar em uma lista.                  Depois disso, mostre:                                                                                                                                                A) Quantos números foram digitados.                                                                                                                    B) A lista de valores, ordenada de forma decrescente.                                                                                          C) Se o valor 5 foi digitado e está ou não na lista."
      ],
      "metadata": {
        "id": "d4iUuykAqSd4"
      }
    },
    {
      "cell_type": "markdown",
      "source": [
        "Exercício Python 082: Crie um programa que vai ler vários números e colocar em uma lista. Depois disso, crie duas listas extras que vão conter apenas os valores pares e os valores ímpares digitados, respectivamente. Ao final, mostre o conteúdo das três listas geradas."
      ],
      "metadata": {
        "id": "3neQYrCyrGzw"
      }
    },
    {
      "cell_type": "code",
      "source": [],
      "metadata": {
        "id": "xVk5NjsmrMh6"
      },
      "execution_count": null,
      "outputs": []
    },
    {
      "cell_type": "markdown",
      "source": [
        "Exercício Python 083: Crie um programa onde o usuário digite uma expressão qualquer que use parênteses. Seu aplicativo deverá analisar se a expressão passada está com os parênteses abertos e fechados na ordem correta."
      ],
      "metadata": {
        "id": "NwfAL80_rNAa"
      }
    },
    {
      "cell_type": "code",
      "source": [],
      "metadata": {
        "id": "rZU9r-M7rGFa"
      },
      "execution_count": null,
      "outputs": []
    },
    {
      "cell_type": "markdown",
      "source": [],
      "metadata": {
        "id": "sQvU_2xNrYGn"
      }
    },
    {
      "cell_type": "code",
      "source": [
        "dados = []\n",
        "\n",
        "for i in range(3):\n",
        "  resposta = input('Digite um dado: ')\n",
        "  dados.append(resposta)\n",
        "print(dados)\n",
        "\n"
      ],
      "metadata": {
        "colab": {
          "base_uri": "https://localhost:8080/"
        },
        "id": "vmo6PqT7svud",
        "outputId": "03008792-9c70-4a55-dc89-bd13b1b6e08a"
      },
      "execution_count": null,
      "outputs": [
        {
          "output_type": "stream",
          "name": "stdout",
          "text": [
            "Digite um dado: Dublin\n",
            "Digite um numero: 25\n",
            "Digite um nome: Michel\n",
            "Digite um dado: Belfast\n",
            "Digite um numero: 33\n",
            "Digite um nome: Carlos\n",
            "Digite um dado: Cavan\n",
            "Digite um numero: 44\n",
            "Digite um nome: Daniela\n",
            "['Michel', 'Carlos', 'Daniela']\n"
          ]
        }
      ]
    },
    {
      "cell_type": "code",
      "source": [
        "teste = []\n",
        "teste.append('Gustavo')\n",
        "teste.append('40')\n",
        "galera = []\n",
        "galera.append(teste[:]) #cria uma copia\n",
        "teste[0] = 'João'\n",
        "teste [1] = 22\n",
        "galera.append(teste[:])\n",
        "print(galera)\n",
        "print(type(galera))\n",
        "\n"
      ],
      "metadata": {
        "colab": {
          "base_uri": "https://localhost:8080/"
        },
        "id": "6SJ6G1NQPSd5",
        "outputId": "b2dd3328-eefd-401e-ddeb-91455b2a26dd"
      },
      "execution_count": null,
      "outputs": [
        {
          "output_type": "stream",
          "name": "stdout",
          "text": [
            "[['Gustavo', '40'], ['João', 22]]\n",
            "<class 'list'>\n"
          ]
        }
      ]
    },
    {
      "cell_type": "code",
      "source": [
        "galera = [['Maria', 19], ['João', 33], ['Joaquim', 14], ['Ana', 41]]\n",
        "soma_idades = 0\n",
        "nomes = []\n",
        "\n",
        "for p in galera:\n",
        "  print(f'{p[0]} tem {p[1]} anos de idade.')\n",
        "  soma_idades += p[1]\n",
        "  nomes.append(p[0])\n",
        "\n",
        "media = soma_idades/len(galera)\n",
        "nomes.sort()\n",
        "print(nomes)\n",
        "print(f'A média de idade da galera eh {media} anos de idade.')\n"
      ],
      "metadata": {
        "colab": {
          "base_uri": "https://localhost:8080/"
        },
        "id": "3SyNqBnkTy_g",
        "outputId": "e6bd2633-ce45-419f-db52-0cf66024eba7"
      },
      "execution_count": null,
      "outputs": [
        {
          "output_type": "stream",
          "name": "stdout",
          "text": [
            "Maria tem 19 anos de idade.\n",
            "João tem 33 anos de idade.\n",
            "Joaquim tem 14 anos de idade.\n",
            "Ana tem 41 anos de idade.\n",
            "['Ana', 'Joaquim', 'João', 'Maria']\n",
            "A média de idade da galera eh 26.75 anos de idade.\n"
          ]
        }
      ]
    },
    {
      "cell_type": "code",
      "source": [
        "galera = []\n",
        "dado = []\n",
        "maior = menor = 0\n",
        "for d in range(3):\n",
        "  dado.append(input('NOME: '))\n",
        "  dado.append(int(input('IDADE: ')))\n",
        "  galera.append(dado[:]) #copia do dado\n",
        "  dado.clear()\n",
        "\n",
        "for p in galera:\n",
        "  if p[1] > 18:\n",
        "    print(f'{p[0]} eh maior de idade.')\n",
        "    maior += 1\n",
        "  else:\n",
        "    print(f'{p[0]} eh menor de idade.')\n",
        "    menor +=1\n",
        "\n",
        "print(f'Temos {maior} maiores e {menor} menores de idade')"
      ],
      "metadata": {
        "colab": {
          "base_uri": "https://localhost:8080/"
        },
        "id": "gf15oODmbjtZ",
        "outputId": "ac3c9432-7bab-4511-c107-5c48d9dd0c2c"
      },
      "execution_count": null,
      "outputs": [
        {
          "output_type": "stream",
          "name": "stdout",
          "text": [
            "NOME: Clara\n",
            "IDADE: 12\n",
            "NOME: Gabriel\n",
            "IDADE: 9\n",
            "NOME: Sarah\n",
            "IDADE: 22\n",
            "Clara eh menor de idade.\n",
            "Gabriel eh menor de idade.\n",
            "Sarah eh maior de idade.\n",
            "Temos 1 maiores e 2 menores de idade\n"
          ]
        }
      ]
    },
    {
      "cell_type": "markdown",
      "source": [
        "Exercício Python 084: Faça um programa que leia nome e peso de várias pessoas,                                      guardando tudo em uma lista. No final, mostre:                                                                                                   \n",
        " A) Quantas pessoas foram cadastradas.\n",
        " B) Uma listagem com as pessoas mais pesadas.\n",
        " C) Uma listagem com as pessoas mais leves."
      ],
      "metadata": {
        "id": "p_WOFMhUecfP"
      }
    },
    {
      "cell_type": "code",
      "source": [],
      "metadata": {
        "id": "QZtOP3W6eeBj"
      },
      "execution_count": null,
      "outputs": []
    },
    {
      "cell_type": "markdown",
      "source": [
        "Exercício Python 085: Crie um programa onde o usuário possa digitar sete valores numéricos e cadastre-os em uma lista única que mantenha separados os valores pares e ímpares. No final, mostre os valores pares e ímpares em ordem crescente."
      ],
      "metadata": {
        "id": "72lOzeQcejAD"
      }
    },
    {
      "cell_type": "code",
      "source": [],
      "metadata": {
        "id": "bNOpbZOaejw_"
      },
      "execution_count": null,
      "outputs": []
    },
    {
      "cell_type": "markdown",
      "source": [
        "Exercício Python 086: Crie um programa que declare uma matriz de dimensão 3×3 e preencha com valores lidos pelo teclado. No final, mostre a matriz na tela, com a formatação correta."
      ],
      "metadata": {
        "id": "0qByjEwHeqjT"
      }
    },
    {
      "cell_type": "code",
      "source": [],
      "metadata": {
        "id": "r7pYAcjcerZk"
      },
      "execution_count": null,
      "outputs": []
    },
    {
      "cell_type": "markdown",
      "source": [
        "Exercício Python 087: Aprimore o desafio anterior, mostrando no final:                                                    A) A soma de todos os valores pares digitados.                                                                                                  B) A soma dos valores da terceira coluna.                                                                                                                C) O maior valor da segunda linha."
      ],
      "metadata": {
        "id": "FaZyj27seviP"
      }
    },
    {
      "cell_type": "code",
      "source": [],
      "metadata": {
        "id": "AQlj0Y6Qewov"
      },
      "execution_count": null,
      "outputs": []
    },
    {
      "cell_type": "markdown",
      "source": [
        "Exercício Python 087: Aprimore o desafio anterior, mostrando no final:                                                    A) A soma de todos os valores pares digitados.                                                                                                  B) A soma dos valores da terceira coluna.                                                                                                                C) O maior valor da segunda linha."
      ],
      "metadata": {
        "id": "F2ohHZIWe6Q8"
      }
    },
    {
      "cell_type": "code",
      "source": [],
      "metadata": {
        "id": "wHWyapFXe7zQ"
      },
      "execution_count": null,
      "outputs": []
    },
    {
      "cell_type": "markdown",
      "source": [
        "Exercício Python 088: Faça um programa que ajude um jogador da MEGA SENA a criar palpites.O programa vai perguntar quantos jogos serão gerados e vai sortear 6 números entre 1 e 60 para cada jogo, cadastrando tudo em uma lista composta."
      ],
      "metadata": {
        "id": "u36lQCutfAMR"
      }
    },
    {
      "cell_type": "code",
      "source": [],
      "metadata": {
        "id": "SJcqxJUKfBI3"
      },
      "execution_count": null,
      "outputs": []
    },
    {
      "cell_type": "markdown",
      "source": [
        "Exercício Python 089: Crie um programa que leia nome e duas notas de vários alunos e guarde tudo em uma lista composta. No final, mostre um boletim contendo a média de cada um e permita que o usuário possa mostrar as notas de cada aluno individualmente."
      ],
      "metadata": {
        "id": "e20g8nIZfGHp"
      }
    },
    {
      "cell_type": "code",
      "source": [],
      "metadata": {
        "id": "JsQofSHLfK_M"
      },
      "execution_count": null,
      "outputs": []
    },
    {
      "cell_type": "markdown",
      "source": [
        "Aula de Dic"
      ],
      "metadata": {
        "id": "MaAhcxcUcY5p"
      }
    },
    {
      "cell_type": "code",
      "source": [
        "pessoas = {'nome':'Gustavo', 'sexo':'M','idade':22}\n",
        "\n",
        "print(f'{pessoas[\"nome\"]} tem {pessoas[\"idade\"]} anos de idade.')\n",
        "print(pessoas.keys())\n",
        "print(pessoas.items())\n",
        "print(pessoas.values())\n",
        "\n",
        "for k in pessoas.keys():\n",
        "  print(k)\n",
        "\n",
        "for k in pessoas.values():\n",
        "  print(k)\n",
        "\n",
        "for k, v in pessoas.items(): #chave e valor\n",
        "  print(k, v)\n",
        "\n",
        "del pessoas[\"sexo\"]\n",
        "for k, v in pessoas.items(): #chave e valor\n",
        "  print(k, v)\n",
        "\n",
        "pessoas['peso'] = 98.5 #adiciona sem usar o .append\n",
        "for k, v in pessoas.items(): #chave e valor\n",
        "  print(k, v)"
      ],
      "metadata": {
        "colab": {
          "base_uri": "https://localhost:8080/"
        },
        "id": "2_fqFlKUceo5",
        "outputId": "d4d382b5-0e22-4202-a616-7de69be2cb58"
      },
      "execution_count": null,
      "outputs": [
        {
          "output_type": "stream",
          "name": "stdout",
          "text": [
            "Gustavo tem 22 anos de idade.\n",
            "dict_keys(['nome', 'sexo', 'idade'])\n",
            "dict_items([('nome', 'Gustavo'), ('sexo', 'M'), ('idade', 22)])\n",
            "dict_values(['Gustavo', 'M', 22])\n",
            "nome\n",
            "sexo\n",
            "idade\n",
            "Gustavo\n",
            "M\n",
            "22\n",
            "nome Gustavo\n",
            "sexo M\n",
            "idade 22\n",
            "nome Gustavo\n",
            "idade 22\n",
            "nome Gustavo\n",
            "idade 22\n",
            "peso 98.5\n"
          ]
        }
      ]
    },
    {
      "cell_type": "code",
      "source": [
        "brasil = []\n",
        "estado_1 = {'estado': 'Rio de Janeiro', 'uf': 'RJ'}\n",
        "estado_2 = {'estado': 'São Paulo', 'uf': 'SP'}\n",
        "brasil.append(estado_1)\n",
        "brasil.append(estado_2)\n",
        "\n",
        "print(brasil) #Uma lista com 2 dicionários\n",
        "print(brasil[0]['uf'])\n",
        "\n"
      ],
      "metadata": {
        "colab": {
          "base_uri": "https://localhost:8080/"
        },
        "id": "ikevDMpwc2MT",
        "outputId": "e2bd0ba1-d386-4200-92a8-caa5a770f3f3"
      },
      "execution_count": null,
      "outputs": [
        {
          "output_type": "stream",
          "name": "stdout",
          "text": [
            "[{'estado': 'Rio de Janeiro', 'uf': 'RJ'}, {'estado': 'São Paulo', 'uf': 'SP'}]\n",
            "RJ\n"
          ]
        }
      ]
    },
    {
      "cell_type": "code",
      "source": [
        "estados = {} #cria um dic\n",
        "brasil = [] #cria uma lista\n",
        "\n",
        "for c in range(2):\n",
        "  estados['uf'] = input('ESTADO: ')\n",
        "  estados['sigla'] = input('SIGLA: ')\n",
        "  brasil.append(estados.copy()) #dic não funciona com append\n",
        "for e in brasil:\n",
        "  for k, v, in e.items():\n",
        "    print(v)\n"
      ],
      "metadata": {
        "colab": {
          "base_uri": "https://localhost:8080/",
          "height": 372
        },
        "id": "knSPsnEud0rJ",
        "outputId": "7cde8864-08f8-4587-df7a-231e20a92ee2"
      },
      "execution_count": null,
      "outputs": [
        {
          "output_type": "error",
          "ename": "KeyboardInterrupt",
          "evalue": "Interrupted by user",
          "traceback": [
            "\u001b[0;31m---------------------------------------------------------------------------\u001b[0m",
            "\u001b[0;31mKeyboardInterrupt\u001b[0m                         Traceback (most recent call last)",
            "\u001b[0;32m<ipython-input-23-bccfad7d114c>\u001b[0m in \u001b[0;36m<cell line: 4>\u001b[0;34m()\u001b[0m\n\u001b[1;32m      3\u001b[0m \u001b[0;34m\u001b[0m\u001b[0m\n\u001b[1;32m      4\u001b[0m \u001b[0;32mfor\u001b[0m \u001b[0mc\u001b[0m \u001b[0;32min\u001b[0m \u001b[0mrange\u001b[0m\u001b[0;34m(\u001b[0m\u001b[0;36m2\u001b[0m\u001b[0;34m)\u001b[0m\u001b[0;34m:\u001b[0m\u001b[0;34m\u001b[0m\u001b[0;34m\u001b[0m\u001b[0m\n\u001b[0;32m----> 5\u001b[0;31m   \u001b[0mestados\u001b[0m\u001b[0;34m[\u001b[0m\u001b[0;34m'uf'\u001b[0m\u001b[0;34m]\u001b[0m \u001b[0;34m=\u001b[0m \u001b[0minput\u001b[0m\u001b[0;34m(\u001b[0m\u001b[0;34m'ESTADO: '\u001b[0m\u001b[0;34m)\u001b[0m\u001b[0;34m\u001b[0m\u001b[0;34m\u001b[0m\u001b[0m\n\u001b[0m\u001b[1;32m      6\u001b[0m   \u001b[0mestados\u001b[0m\u001b[0;34m[\u001b[0m\u001b[0;34m'sigla'\u001b[0m\u001b[0;34m]\u001b[0m \u001b[0;34m=\u001b[0m \u001b[0minput\u001b[0m\u001b[0;34m(\u001b[0m\u001b[0;34m'SIGLA: '\u001b[0m\u001b[0;34m)\u001b[0m\u001b[0;34m\u001b[0m\u001b[0;34m\u001b[0m\u001b[0m\n\u001b[1;32m      7\u001b[0m   \u001b[0mbrasil\u001b[0m\u001b[0;34m.\u001b[0m\u001b[0mappend\u001b[0m\u001b[0;34m(\u001b[0m\u001b[0mestados\u001b[0m\u001b[0;34m.\u001b[0m\u001b[0mcopy\u001b[0m\u001b[0;34m(\u001b[0m\u001b[0;34m)\u001b[0m\u001b[0;34m)\u001b[0m \u001b[0;31m#dic não funciona com append\u001b[0m\u001b[0;34m\u001b[0m\u001b[0;34m\u001b[0m\u001b[0m\n",
            "\u001b[0;32m/usr/local/lib/python3.10/dist-packages/ipykernel/kernelbase.py\u001b[0m in \u001b[0;36mraw_input\u001b[0;34m(self, prompt)\u001b[0m\n\u001b[1;32m    849\u001b[0m                 \u001b[0;34m\"raw_input was called, but this frontend does not support input requests.\"\u001b[0m\u001b[0;34m\u001b[0m\u001b[0;34m\u001b[0m\u001b[0m\n\u001b[1;32m    850\u001b[0m             )\n\u001b[0;32m--> 851\u001b[0;31m         return self._input_request(str(prompt),\n\u001b[0m\u001b[1;32m    852\u001b[0m             \u001b[0mself\u001b[0m\u001b[0;34m.\u001b[0m\u001b[0m_parent_ident\u001b[0m\u001b[0;34m,\u001b[0m\u001b[0;34m\u001b[0m\u001b[0;34m\u001b[0m\u001b[0m\n\u001b[1;32m    853\u001b[0m             \u001b[0mself\u001b[0m\u001b[0;34m.\u001b[0m\u001b[0m_parent_header\u001b[0m\u001b[0;34m,\u001b[0m\u001b[0;34m\u001b[0m\u001b[0;34m\u001b[0m\u001b[0m\n",
            "\u001b[0;32m/usr/local/lib/python3.10/dist-packages/ipykernel/kernelbase.py\u001b[0m in \u001b[0;36m_input_request\u001b[0;34m(self, prompt, ident, parent, password)\u001b[0m\n\u001b[1;32m    893\u001b[0m             \u001b[0;32mexcept\u001b[0m \u001b[0mKeyboardInterrupt\u001b[0m\u001b[0;34m:\u001b[0m\u001b[0;34m\u001b[0m\u001b[0;34m\u001b[0m\u001b[0m\n\u001b[1;32m    894\u001b[0m                 \u001b[0;31m# re-raise KeyboardInterrupt, to truncate traceback\u001b[0m\u001b[0;34m\u001b[0m\u001b[0;34m\u001b[0m\u001b[0m\n\u001b[0;32m--> 895\u001b[0;31m                 \u001b[0;32mraise\u001b[0m \u001b[0mKeyboardInterrupt\u001b[0m\u001b[0;34m(\u001b[0m\u001b[0;34m\"Interrupted by user\"\u001b[0m\u001b[0;34m)\u001b[0m \u001b[0;32mfrom\u001b[0m \u001b[0;32mNone\u001b[0m\u001b[0;34m\u001b[0m\u001b[0;34m\u001b[0m\u001b[0m\n\u001b[0m\u001b[1;32m    896\u001b[0m             \u001b[0;32mexcept\u001b[0m \u001b[0mException\u001b[0m \u001b[0;32mas\u001b[0m \u001b[0me\u001b[0m\u001b[0;34m:\u001b[0m\u001b[0;34m\u001b[0m\u001b[0;34m\u001b[0m\u001b[0m\n\u001b[1;32m    897\u001b[0m                 \u001b[0mself\u001b[0m\u001b[0;34m.\u001b[0m\u001b[0mlog\u001b[0m\u001b[0;34m.\u001b[0m\u001b[0mwarning\u001b[0m\u001b[0;34m(\u001b[0m\u001b[0;34m\"Invalid Message:\"\u001b[0m\u001b[0;34m,\u001b[0m \u001b[0mexc_info\u001b[0m\u001b[0;34m=\u001b[0m\u001b[0;32mTrue\u001b[0m\u001b[0;34m)\u001b[0m\u001b[0;34m\u001b[0m\u001b[0;34m\u001b[0m\u001b[0m\n",
            "\u001b[0;31mKeyboardInterrupt\u001b[0m: Interrupted by user"
          ]
        }
      ]
    },
    {
      "cell_type": "markdown",
      "source": [
        "Exercício Python 090: Faça um programa que leia nome e média de um aluno, guardando também a situação em um dicionário. No final, mostre o conteúdo da estrutura na tela."
      ],
      "metadata": {
        "id": "2Gxmu862fLwi"
      }
    },
    {
      "cell_type": "code",
      "source": [
        "#construindo um dicionário com dados de input\n",
        "aluno = {}\n",
        "aluno['nome'] = input('NOME DO ALUNO: ')\n",
        "aluno['media'] = float(input(f'MÉDIA DE {aluno[\"nome\"]}: ')) #declarar com aspas duplas quando estiver dentro de uma string com aspas simples.\n",
        "if aluno['media'] >= 7:\n",
        "  aluno['situacao'] = 'APROVADO'\n",
        "elif aluno['media'] < 7 and aluno['media'] >= 5:\n",
        "  aluno['situacao'] = 'RECUPERAÇÃO'\n",
        "else:\n",
        "  aluno['situacao'] = 'REPROVADO'\n",
        "\n",
        "for k, v in aluno.items():\n",
        "  print(f'{k} é igual a {v}')\n"
      ],
      "metadata": {
        "id": "UrEfXLa6fdRC",
        "colab": {
          "base_uri": "https://localhost:8080/"
        },
        "outputId": "0655a4c0-a4aa-4d44-b41f-9633c2fb0a86"
      },
      "execution_count": null,
      "outputs": [
        {
          "output_type": "stream",
          "name": "stdout",
          "text": [
            "NOME DO ALUNO: Clara\n",
            "MÉDIA DE Clara: 8\n",
            "nome é igual a Clara\n",
            "media é igual a 8.0\n",
            "situacao é igual a APROVADO\n"
          ]
        }
      ]
    },
    {
      "cell_type": "markdown",
      "source": [
        "Exercício Python 091: Crie um programa onde 4 jogadores joguem um dado e tenham resultados aleatórios. Guarde esses resultados em um dicionário em Python. No final, coloque esse dicionário em ordem, sabendo que o vencedor tirou o maior número no dado."
      ],
      "metadata": {
        "id": "YPKHNurAexAU"
      }
    },
    {
      "cell_type": "code",
      "source": [
        "from random import randint\n",
        "from time import sleep\n",
        "from operator import itemgetter\n",
        "\n",
        "jogo = {'jogador1': randint(1,6), 'jorgador2': randint(1,6), 'jorgador3': randint(1,6), 'jorgador4': randint(1,6)}\n",
        "ranking = () #lista fica mais fácil fazer o ranking\n",
        "for k, v in jogo.items():\n",
        "  print(f'O {k} rolou o dado e o resultado foi {v}!')\n",
        "  sleep(2)\n",
        "ranking = sorted(jogo.items(), key=itemgetter(1), reverse=True)\n",
        "print('=*'*30)\n",
        "print(' == RANKING DOS JOGADORES == ')\n",
        "print('=*'*30)\n",
        "\n",
        "for i, v in enumerate(ranking):\n",
        "  print(f'{i+1}º lugar: {v[0]} tirou {v[1]}')\n"
      ],
      "metadata": {
        "id": "_57VyyS8flJh",
        "colab": {
          "base_uri": "https://localhost:8080/"
        },
        "outputId": "2438fa84-3691-4249-d92a-2b33d4d4e55b"
      },
      "execution_count": null,
      "outputs": [
        {
          "output_type": "stream",
          "name": "stdout",
          "text": [
            "O jogador1 rolou o dado e o resultado foi 3!\n",
            "O jorgador2 rolou o dado e o resultado foi 1!\n",
            "O jorgador3 rolou o dado e o resultado foi 3!\n",
            "O jorgador4 rolou o dado e o resultado foi 1!\n",
            "=*=*=*=*=*=*=*=*=*=*=*=*=*=*=*=*=*=*=*=*=*=*=*=*=*=*=*=*=*=*\n",
            " == RANKING DOS JOGADORES == \n",
            "=*=*=*=*=*=*=*=*=*=*=*=*=*=*=*=*=*=*=*=*=*=*=*=*=*=*=*=*=*=*\n",
            "1º lugar: jogador1 tirou 3\n",
            "2º lugar: jorgador3 tirou 3\n",
            "3º lugar: jorgador2 tirou 1\n",
            "4º lugar: jorgador4 tirou 1\n"
          ]
        }
      ]
    },
    {
      "cell_type": "markdown",
      "source": [
        "Exercício Python 092: Crie um programa que leia nome, ano de nascimento e carteira de trabalho e cadastre-o (com idade) em um dicionário. Se por acaso a CTPS for diferente de ZERO, o dicionário receberá também o ano de contratação e o salário. Calcule e acrescente, além da idade, com quantos anos a pessoa vai se aposentar."
      ],
      "metadata": {
        "id": "jhcGcP8JflmK"
      }
    },
    {
      "cell_type": "code",
      "source": [
        "#Para esse exercícios, vamos criar um dicionário chamado dados\n",
        "from datetime import datetime\n",
        "dados = {}\n",
        "dados['nome'] = input('Nome: ')\n",
        "ano_nasc = int(input('Ano de Nascimento: '))\n",
        "dados['idade'] = datetime.now().year - ano_nasc\n",
        "dados['ctps'] = int(input('CPTS [Digite 0 caso não tenha carteira de trabalho]:  '))\n",
        "if dados['ctps'] != 0:\n",
        "  dados['contratação'] = int(input('Ano de contratação: '))\n",
        "  dados['salario'] = int(input('Salário: '))\n",
        "#Para a aposentadoria, vamos calcular o ano que ele vai se aposentar.\n",
        "#Isso seria o ano da contratação + ano de contribuição (que para esse exercicio serão 35 anos). Isso resulta no ano da aposentodira.\n",
        "#Exeplo ano de contratação = 2000 + 35. O ano de aposentadoria é 2035\n",
        "#Mas o exercicios pede com quantos anos a pessoa vai de aposentar. Temos que descobrir quantos anos a pessoa terá no ano da aposentadoria.\n",
        "#Para isso, vamos diminuir o ano de aposentadoria - o ano atual. E depois somar a idade atual da pessoa.\n",
        "  dados['aposentadoria'] = dados['idade'] + ((dados['contratação'] + 35) - datetime.now().year)\n",
        "for k, v in dados.items():\n",
        "  print(f'- {k} = {v}'.upper())\n",
        "\n"
      ],
      "metadata": {
        "id": "rbHYKcxRgOY1",
        "colab": {
          "base_uri": "https://localhost:8080/"
        },
        "outputId": "f1f0ca36-5a48-4cd7-c72b-772f739c3ff2"
      },
      "execution_count": null,
      "outputs": [
        {
          "output_type": "stream",
          "name": "stdout",
          "text": [
            "Nome: Clara Mendes\n",
            "Ano de Nascimento: 1982\n",
            "CPTS [Digite 0 caso não tenha carteira de trabalho]:  58875\n",
            "Ano de contratação: 2006\n",
            "Salário: 3000\n",
            "- NOME = CLARA MENDES\n",
            "- IDADE = 42\n",
            "- CTPS = 58875\n",
            "- CONTRATAÇÃO = 2006\n",
            "- SALARIO = 3000\n",
            "- APOSENTADORIA = 59\n"
          ]
        }
      ]
    },
    {
      "cell_type": "markdown",
      "source": [
        "Exercício Python 093: Crie um programa que gerencie o aproveitamento de um jogador de futebol. O programa vai ler o nome do jogador e quantas partidas ele jogou. Depois vai ler a quantidade de gols feitos em cada partida. No final, tudo isso será guardado em um dicionário, incluindo o total de gols feitos durante o campeonato."
      ],
      "metadata": {
        "id": "m9YH-EVCh_MI"
      }
    },
    {
      "cell_type": "code",
      "source": [
        "dados = {}\n",
        "dados['nome'] = input('NOME DO JOGADOR: ')\n",
        "partidas = int(input( 'NÚMERO DE PARTIDAS: '))\n",
        "gol = []\n",
        "for p in range(partidas):\n",
        "  gol.append(int(input(f'NÚMERO DE GOLS NA {p+1}ª PARTIDA: '))) #isso aqui é uma lista\n",
        "dados['gols'] = gol[:] #[:] para copiar fatiado\n",
        "dados['total'] = sum(gol)\n",
        "for k, v in dados.items(): #para ler o dicionário\n",
        "  print(f'{k} = {v}'.upper())\n",
        "for i, v in enumerate(dados['gols']): #ler a lista dentro do dicionário\n",
        "  print(f'Na partida {1} fez {v} gols')\n",
        "\n",
        "print(f'O jogador {dados[\"nome\"]} fez um total de {dados[\"total\"]} gols.')\n"
      ],
      "metadata": {
        "id": "ZxeWd-uGiAhd",
        "colab": {
          "base_uri": "https://localhost:8080/"
        },
        "outputId": "065660f2-0256-44da-89ff-679ec7a7e2b5"
      },
      "execution_count": null,
      "outputs": [
        {
          "output_type": "stream",
          "name": "stdout",
          "text": [
            "NOME DO JOGADOR: Zico\n",
            "NÚMERO DE PARTIDAS: 1\n",
            "NÚMERO DE GOLS NA 1ª PARTIDA: 2\n",
            "NOME = ZICO\n",
            "GOLS = [2]\n",
            "TOTAL = 2\n",
            "Na partida 1 fez 2 gols\n",
            "O jogador Zico fez um total de 2 gols.\n"
          ]
        }
      ]
    },
    {
      "cell_type": "markdown",
      "source": [
        "Exercício Python 094: Crie um programa que leia nome, sexo e idade de várias pessoas, guardando os dados de cada pessoa em um dicionário e todos os dicionários em uma lista. No final, mostre: A) Quantas pessoas foram cadastradas B) A média de idade C) Uma lista com as mulheres D) Uma lista de pessoas com idade acima da média"
      ],
      "metadata": {
        "id": "Io2cLcItiA-j"
      }
    },
    {
      "cell_type": "code",
      "source": [
        "dados = {}\n",
        "dados['nome'] = input('NOME: ')\n",
        "dados['sexo'] = input('SEXO: [F/M/O]').strip().upper()\n",
        "dados['idade'] = int(input('IDADE: '))\n",
        "\n",
        "print(dados)\n",
        "#cadastros\n",
        "#idade_media\n",
        "#lista_mulheres\n",
        "#pessoas_acima_idade"
      ],
      "metadata": {
        "id": "J6nyi628im4v",
        "colab": {
          "base_uri": "https://localhost:8080/"
        },
        "outputId": "41decf01-dd03-428f-88cd-58def2a544ba"
      },
      "execution_count": null,
      "outputs": [
        {
          "output_type": "stream",
          "name": "stdout",
          "text": [
            "NOME: Clara\n",
            "SEXO: [F/M/O]cF\n",
            "IDADE: 41\n",
            "{'nome': 'Clara', 'sexo': 'F', 'idade': 41}\n"
          ]
        }
      ]
    },
    {
      "cell_type": "markdown",
      "source": [
        "Exercício Python 095: Aprimore o desafio 93 para que ele funcione com vários jogadores, incluindo um sistema de visualização de detalhes do aproveitamento de cada jogador."
      ],
      "metadata": {
        "id": "RfKeDcXtinPD"
      }
    },
    {
      "cell_type": "code",
      "source": [],
      "metadata": {
        "id": "_NOeg_ykit9_"
      },
      "execution_count": null,
      "outputs": []
    },
    {
      "cell_type": "markdown",
      "source": [
        "Exercício Python 096: Faça um programa que tenha uma função chamada área(), que receba as dimensões de um terreno retangular (largura e comprimento) e mostre a área do terreno.\n"
      ],
      "metadata": {
        "id": "6QBOU_GSkfuS"
      }
    },
    {
      "cell_type": "code",
      "source": [],
      "metadata": {
        "id": "6jiMTbvbkhMI"
      },
      "execution_count": null,
      "outputs": []
    },
    {
      "cell_type": "markdown",
      "source": [
        "Exercício Python 097: Faça um programa que tenha uma função chamada escreva(), que receba um texto qualquer como parâmetro e mostre uma mensagem com tamanho adaptável.                                  Ex:                                                                                                                                                                        escreva(‘Olá, Mundo!’) Saída:                                                                                                                          ~~~~~~~~~                                                                                                                                                            Olá, Mundo!                                                            "
      ],
      "metadata": {
        "id": "xebElnw_kqWS"
      }
    },
    {
      "cell_type": "code",
      "source": [],
      "metadata": {
        "id": "nZJyi03Ekx1i"
      },
      "execution_count": null,
      "outputs": []
    },
    {
      "cell_type": "markdown",
      "source": [
        "Exercício Python 098: Faça um programa que tenha uma função chamada contador(), que receba três parâmetros: início, fim e passo. Seu programa tem que realizar três contagens através da função criada:                                                                                                                                                                            a) de 1 até 10, de 1 em 1                                                                                                                                              b) de 10 até 0, de 2 em 2                                                                                                                                            c) uma contagem personalizada"
      ],
      "metadata": {
        "id": "8CXsfEMikyZF"
      }
    },
    {
      "cell_type": "code",
      "source": [],
      "metadata": {
        "id": "opANW4IgkzdC"
      },
      "execution_count": null,
      "outputs": []
    },
    {
      "cell_type": "code",
      "source": [],
      "metadata": {
        "id": "yDpJUsOpsRKF"
      },
      "execution_count": null,
      "outputs": []
    },
    {
      "cell_type": "markdown",
      "source": [
        "Exercício Python 099: Faça um programa que tenha uma função chamada maior(), que receba vários parâmetros com valores inteiros. Seu programa tem que analisar todos os valores e dizer qual deles é o maior."
      ],
      "metadata": {
        "id": "oDRIGKSqsRpl"
      }
    },
    {
      "cell_type": "code",
      "source": [],
      "metadata": {
        "id": "MLYXNrd5sSil"
      },
      "execution_count": null,
      "outputs": []
    },
    {
      "cell_type": "markdown",
      "source": [
        "Exercício Python 100: Faça um programa que tenha uma lista chamada números e duas funções chamadas sorteia() e somaPar(). A primeira função vai sortear 5 números e vai colocá-los dentro da lista e a segunda função vai mostrar a soma entre todos os valores pares sorteados pela função anterior."
      ],
      "metadata": {
        "id": "ntdxgBNhsYg1"
      }
    },
    {
      "cell_type": "code",
      "source": [],
      "metadata": {
        "id": "QNiS1UpNsZep"
      },
      "execution_count": null,
      "outputs": []
    },
    {
      "cell_type": "markdown",
      "source": [
        "Exercício Python 101: Crie um programa que tenha uma função chamada voto() que vai receber como parâmetro o ano de nascimento de uma pessoa, retornando um valor literal indicando se uma pessoa tem voto NEGADO, OPCIONAL e OBRIGATÓRIO nas eleições."
      ],
      "metadata": {
        "id": "tqab3B2lsZzc"
      }
    },
    {
      "cell_type": "code",
      "source": [],
      "metadata": {
        "id": "UlCsNlvTsxER"
      },
      "execution_count": null,
      "outputs": []
    },
    {
      "cell_type": "markdown",
      "source": [
        "Exercício Python 102: Crie um programa que tenha uma função fatorial() que receba dois parâmetros: o primeiro que indique o número a calcular e outro chamado show, que será um valor lógico (opcional) indicando se será mostrado ou não na tela o processo de cálculo do fatorial."
      ],
      "metadata": {
        "id": "T1ghCwytsxfg"
      }
    },
    {
      "cell_type": "code",
      "source": [],
      "metadata": {
        "id": "vhqQ75OGs2Zf"
      },
      "execution_count": null,
      "outputs": []
    },
    {
      "cell_type": "markdown",
      "source": [
        "Exercício Python 103: Faça um programa que tenha uma função chamada ficha(), que receba dois parâmetros opcionais: o nome de um jogador e quantos gols ele marcou. O programa deverá ser capaz de mostrar a ficha do jogador, mesmo que algum dado não tenha sido informado corretamente."
      ],
      "metadata": {
        "id": "Sydavrg_s2tv"
      }
    },
    {
      "cell_type": "code",
      "source": [],
      "metadata": {
        "id": "bfBsBLkmtlVa"
      },
      "execution_count": null,
      "outputs": []
    },
    {
      "cell_type": "markdown",
      "source": [
        "Exercício Python 104: Crie um programa que tenha a função leiaInt(), que vai funcionar de forma semelhante ‘a função input() do Python, só que fazendo a validação para aceitar apenas um valor numérico. Ex: n = leiaInt(‘Digite um n: ‘)"
      ],
      "metadata": {
        "id": "6ik_llyrk0Fn"
      }
    },
    {
      "cell_type": "code",
      "source": [],
      "metadata": {
        "id": "yyMy47pYt75O"
      },
      "execution_count": null,
      "outputs": []
    },
    {
      "cell_type": "markdown",
      "source": [
        "xercício Python 105: Faça um programa que tenha uma função notas() que pode receber várias notas de alunos e vai retornar um dicionário com as seguintes informações:\n",
        "\n",
        "– Quantidade de notas                                                                                                                                                  – A maior nota                                                                                                                                                                – A menor nota                                                                                                                                                              – A média da turma                                                                                                                                                      – A situação (opcional)"
      ],
      "metadata": {
        "id": "1WaF5s5kt8bA"
      }
    },
    {
      "cell_type": "code",
      "source": [],
      "metadata": {
        "id": "mt8NQ-tRt_VA"
      },
      "execution_count": null,
      "outputs": []
    },
    {
      "cell_type": "markdown",
      "source": [
        "Exercício Python 106: Faça um mini-sistema que utilize o Interactive Help do Python. O usuário vai digitar o comando e o manual vai aparecer. Quando o usuário digitar a palavra ‘FIM’, o programa se encerrará. Importante: use cores.\n"
      ],
      "metadata": {
        "id": "BHmb5VguuoLc"
      }
    },
    {
      "cell_type": "code",
      "source": [],
      "metadata": {
        "id": "0-qiksR_upD5"
      },
      "execution_count": null,
      "outputs": []
    },
    {
      "cell_type": "code",
      "source": [],
      "metadata": {
        "id": "WOnUpqhdu-sL"
      },
      "execution_count": null,
      "outputs": []
    },
    {
      "cell_type": "markdown",
      "source": [
        "Exercício Python 107: Crie um módulo chamado moeda.py que tenha as funções incorporadas aumentar(), diminuir(), dobro() e metade(). Faça também um programa que importe esse módulo e use algumas dessas funções."
      ],
      "metadata": {
        "id": "GTqxVMh3u_Ki"
      }
    },
    {
      "cell_type": "code",
      "source": [],
      "metadata": {
        "id": "H6vjp91yvAE1"
      },
      "execution_count": null,
      "outputs": []
    },
    {
      "cell_type": "markdown",
      "source": [
        "Exercício Python 108: Adapte o código do desafio #107, criando uma função adicional chamada moeda() que consiga mostrar os números como um valor monetário formatado."
      ],
      "metadata": {
        "id": "1Kf-DfCjvAf8"
      }
    },
    {
      "cell_type": "code",
      "source": [],
      "metadata": {
        "id": "KmbLfkf2vG2I"
      },
      "execution_count": null,
      "outputs": []
    },
    {
      "cell_type": "markdown",
      "source": [
        "Exercício Python 109: Modifique as funções que form criadas no desafio 107 para que elas aceitem um parâmetro a mais, informando se o valor retornado por elas vai ser ou não formatado pela função moeda(), desenvolvida no desafio 108."
      ],
      "metadata": {
        "id": "Pas42Zq0vHIa"
      }
    },
    {
      "cell_type": "code",
      "source": [],
      "metadata": {
        "id": "TGEpOxOqvSc8"
      },
      "execution_count": null,
      "outputs": []
    },
    {
      "cell_type": "markdown",
      "source": [
        "Exercício Python 110: Adicione o módulo moeda.py criado nos desafios anteriores, uma função chamada resumo(), que mostre na tela algumas informações geradas pelas funções que já temos no módulo criado até aqui."
      ],
      "metadata": {
        "id": "H5RF3nLrvSz8"
      }
    },
    {
      "cell_type": "code",
      "source": [],
      "metadata": {
        "id": "L9gkjJbQvZQm"
      },
      "execution_count": null,
      "outputs": []
    },
    {
      "cell_type": "markdown",
      "source": [
        "Exercício Python 111: Crie um pacote chamado utilidadesCeV que tenha dois módulos internos chamados moeda e dado. Transfira todas as funções utilizadas nos desafios 107, 108 e 109 para o primeiro pacote e mantenha tudo funcionando."
      ],
      "metadata": {
        "id": "zgorSndIvZnt"
      }
    },
    {
      "cell_type": "code",
      "source": [],
      "metadata": {
        "id": "EoWjtC7XveN9"
      },
      "execution_count": null,
      "outputs": []
    },
    {
      "cell_type": "markdown",
      "source": [
        "Exercício Python 112: Dentro do pacote utilidadesCeV que criamos no desafio 111, temos um módulo chamado dado. Crie uma função chamada leiaDinheiro() que seja capaz de funcionar como a função imputa(), mas com uma validação de dados para aceitar apenas valores que seja monetários."
      ],
      "metadata": {
        "id": "TtlnGiBIvemg"
      }
    },
    {
      "cell_type": "code",
      "source": [],
      "metadata": {
        "id": "EkvPnCmavmIE"
      },
      "execution_count": null,
      "outputs": []
    },
    {
      "cell_type": "markdown",
      "source": [
        "Exercício Python 113: Reescreva a função leiaInt() que fizemos no desafio 104, incluindo agora a possibilidade da digitação de um número de tipo inválido. Aproveite e crie também uma função leiaFloat() com a mesma funcionalidade."
      ],
      "metadata": {
        "id": "xtuYFEcUvqqZ"
      }
    },
    {
      "cell_type": "code",
      "source": [],
      "metadata": {
        "id": "CGfO52Ykv_6K"
      },
      "execution_count": null,
      "outputs": []
    },
    {
      "cell_type": "markdown",
      "source": [
        "Exercício Python 114: Crie um código em Python que teste se o site pudim está acessível pelo computador usado."
      ],
      "metadata": {
        "id": "chFk6SV4wAQq"
      }
    },
    {
      "cell_type": "code",
      "source": [],
      "metadata": {
        "id": "8XkmYC2SwP-k"
      },
      "execution_count": null,
      "outputs": []
    },
    {
      "cell_type": "markdown",
      "source": [
        "Exercício Python 115a: Vamos criar um menu em Python, usando modularização."
      ],
      "metadata": {
        "id": "9J-tJH5AwQVu"
      }
    },
    {
      "cell_type": "code",
      "source": [],
      "metadata": {
        "id": "XL8qzeS7w1bG"
      },
      "execution_count": null,
      "outputs": []
    },
    {
      "cell_type": "markdown",
      "source": [
        "Exercício Python 115b: Vamos ver como fazer acesso a arquivos usando o Python.\n",
        "\n"
      ],
      "metadata": {
        "id": "m6tlgidbw1rW"
      }
    },
    {
      "cell_type": "code",
      "source": [],
      "metadata": {
        "id": "GIUUrAQbxFsk"
      },
      "execution_count": null,
      "outputs": []
    },
    {
      "cell_type": "markdown",
      "source": [
        "Exercício Python 115c: Vamos finalizar o projeto de acesso a arquivos em Python."
      ],
      "metadata": {
        "id": "762Nc7cQxGGR"
      }
    },
    {
      "cell_type": "code",
      "source": [],
      "metadata": {
        "id": "whV6jwuExNDY"
      },
      "execution_count": null,
      "outputs": []
    },
    {
      "cell_type": "markdown",
      "source": [],
      "metadata": {
        "id": "7ALW5QebxNbH"
      }
    }
  ],
  "metadata": {
    "colab": {
      "provenance": [],
      "include_colab_link": true
    },
    "kernelspec": {
      "display_name": "Python 3",
      "name": "python3"
    },
    "language_info": {
      "name": "python"
    }
  },
  "nbformat": 4,
  "nbformat_minor": 0
}